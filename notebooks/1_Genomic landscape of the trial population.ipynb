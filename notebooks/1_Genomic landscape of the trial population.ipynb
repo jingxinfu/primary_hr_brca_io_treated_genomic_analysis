{
 "cells": [
  {
   "cell_type": "code",
   "execution_count": 1,
   "metadata": {},
   "outputs": [],
   "source": [
    "import pandas as pd\n",
    "import matplotlib.pyplot as plt\n",
    "import seaborn as sns\n",
    "from src.dataset import bulkDataset\n",
    "from upsetplot import UpSet\n",
    "from src.visualization.plot import *\n",
    "from src.settings import *\n",
    "plt.style.use(PlotStyle)\n",
    "%load_ext autoreload\n",
    "%autoreload 2"
   ]
  },
  {
   "cell_type": "code",
   "execution_count": 2,
   "metadata": {},
   "outputs": [
    {
     "name": "stderr",
     "output_type": "stream",
     "text": [
      "\u001b[1m \u001b[32m 2024-06-03 12:19:58,446 - src.dataset._dataset - _getMetadata - INFO - Appending clinical_and_sequencing_metadata feature estimated from clinical_sequencing sequencing into metadata\u001b[0m\n",
      "\u001b[1m \u001b[32m 2024-06-03 12:19:58,455 - src.dataset._dataset - _getMetadata - INFO - Appending mutation_signature feature estimated from WES sequencing into metadata\u001b[0m\n",
      "\u001b[1m \u001b[32m 2024-06-03 12:19:58,460 - src.dataset._dataset - _getMetadata - INFO - Attaching WES prefix to feature names in mutation_signature\u001b[0m\n",
      "\u001b[1m \u001b[32m 2024-06-03 12:19:58,461 - src.dataset._dataset - _getMetadata - INFO - Appending somatic_mutation_burden feature estimated from WES sequencing into metadata\u001b[0m\n",
      "\u001b[1m \u001b[32m 2024-06-03 12:19:58,465 - src.dataset._dataset - _getMetadata - INFO - Attaching WES prefix to feature names in somatic_mutation_burden\u001b[0m\n",
      "\u001b[1m \u001b[32m 2024-06-03 12:19:58,466 - src.dataset._dataset - _getMetadata - INFO - Appending cga_wes_features feature estimated from WES sequencing into metadata\u001b[0m\n",
      "\u001b[1m \u001b[32m 2024-06-03 12:19:58,470 - src.dataset._dataset - _getMetadata - INFO - Attaching WES prefix to feature names in cga_wes_features\u001b[0m\n",
      "\u001b[1m \u001b[32m 2024-06-03 12:19:58,470 - src.dataset._dataset - _getMetadata - INFO - Appending medTIN feature estimated from bulkRNA sequencing into metadata\u001b[0m\n",
      "\u001b[1m \u001b[32m 2024-06-03 12:19:58,474 - src.dataset._dataset - _getMetadata - INFO - Attaching bulkRNA prefix to feature names in medTIN\u001b[0m\n",
      "\u001b[1m \u001b[32m 2024-06-03 12:19:58,475 - src.dataset._dataset - _getMetadata - INFO - Appending TIMER2 feature estimated from bulkRNA sequencing into metadata\u001b[0m\n",
      "\u001b[1m \u001b[33m 2024-06-03 12:19:58,485 - src.dataset._dataset - load - WARNING - Transpose the TIMER2 result.\u001b[0m\n",
      "\u001b[1m \u001b[32m 2024-06-03 12:19:58,486 - src.dataset._dataset - _getMetadata - INFO - Attaching bulkRNA prefix to feature names in TIMER2\u001b[0m\n",
      "\u001b[1m \u001b[32m 2024-06-03 12:19:58,487 - src.dataset._dataset - _getMetadata - INFO - Appending ssGSEA feature estimated from bulkRNA sequencing into metadata\u001b[0m\n",
      "\u001b[1m \u001b[32m 2024-06-03 12:19:58,494 - src.dataset._dataset - _getMetadata - INFO - Attaching bulkRNA prefix to feature names in ssGSEA\u001b[0m\n",
      "\u001b[1m \u001b[32m 2024-06-03 12:19:58,495 - src.dataset._dataset - _getMetadata - INFO - Appending RNA_Seq_Batch feature estimated from bulkRNA sequencing into metadata\u001b[0m\n",
      "\u001b[1m \u001b[32m 2024-06-03 12:19:58,498 - src.dataset._dataset - _getMetadata - INFO - Attaching bulkRNA prefix to feature names in RNA_Seq_Batch\u001b[0m\n",
      "\u001b[1m \u001b[32m 2024-06-03 12:19:58,499 - src.dataset._dataset - _getMetadata - INFO - Appending PAM50 feature estimated from bulkRNA sequencing into metadata\u001b[0m\n",
      "\u001b[1m \u001b[32m 2024-06-03 12:19:58,503 - src.dataset._dataset - _getMetadata - INFO - Attaching bulkRNA prefix to feature names in PAM50\u001b[0m\n",
      "\u001b[1m \u001b[32m 2024-06-03 12:19:58,504 - src.dataset._dataset - _getMetadata - INFO - Appending Cytokine feature estimated from bulkRNA sequencing into metadata\u001b[0m\n",
      "\u001b[1m \u001b[32m 2024-06-03 12:19:58,512 - src.dataset._dataset - _getMetadata - INFO - Attaching bulkRNA prefix to feature names in Cytokine\u001b[0m\n",
      "\u001b[1m \u001b[32m 2024-06-03 12:19:58,513 - src.dataset._dataset - _getMetadata - INFO - Merging metadata: Outer concat.\u001b[0m\n",
      "\u001b[1m \u001b[33m 2024-06-03 12:19:58,519 - src.dataset._dataset - _getMetadata - WARNING - Remove 1 samples from P25 which is HER+\u001b[0m\n",
      "\u001b[1m \u001b[32m 2024-06-03 12:19:58,523 - src.dataset._dataset - _getMetadata - INFO - Fill NAs in series with object dtype by N/A.\u001b[0m\n"
     ]
    }
   ],
   "source": [
    "data_processed_folder = '../data/processed'\n",
    "dataset = bulkDataset(data_processed_folder)\n",
    "metadata= dataset.metadata\n",
    "somatic_mutation = dataset.load('somatic_mutation')"
   ]
  },
  {
   "cell_type": "code",
   "execution_count": 3,
   "metadata": {},
   "outputs": [],
   "source": [
    "metadata.loc[metadata.BulkRNA_Profile, 'Timepoint'].unique()\n",
    "mutsigcv = dataset.load('MutSigCV')"
   ]
  },
  {
   "attachments": {},
   "cell_type": "markdown",
   "metadata": {},
   "source": [
    "# Overview of the data\n",
    "## Patients that do not have the RCB status\n",
    "\n",
    "- Pt17 withdrew consent.\n",
    "- Pt22 is metastatic and was not having breast surgery.\n",
    "- Pt25 switched to SOC. also HER2+\n",
    "\n",
    "## Inclusion of patients in the analysis\n",
    "\n",
    "1. Remove 1 samples from P25 which is HER2+ for all the analysis.\n",
    "2. Pt17 and Pt22 baseline samples were included in the mutation landscape analysis.\n",
    "3. Pt17 and Pt22 were excluded in both response and treatment exposure analysis."
   ]
  },
  {
   "cell_type": "code",
   "execution_count": 4,
   "metadata": {},
   "outputs": [
    {
     "data": {
      "text/html": [
       "<div>\n",
       "<style scoped>\n",
       "    .dataframe tbody tr th:only-of-type {\n",
       "        vertical-align: middle;\n",
       "    }\n",
       "\n",
       "    .dataframe tbody tr th {\n",
       "        vertical-align: top;\n",
       "    }\n",
       "\n",
       "    .dataframe thead th {\n",
       "        text-align: right;\n",
       "    }\n",
       "</style>\n",
       "<table border=\"1\" class=\"dataframe\">\n",
       "  <thead>\n",
       "    <tr style=\"text-align: right;\">\n",
       "      <th></th>\n",
       "      <th>Patient</th>\n",
       "      <th>Timepoint</th>\n",
       "      <th>BestResponse</th>\n",
       "      <th>her2</th>\n",
       "    </tr>\n",
       "  </thead>\n",
       "  <tbody>\n",
       "    <tr>\n",
       "      <th>RP-2423_16466_22_110719</th>\n",
       "      <td>P22</td>\n",
       "      <td>Baseline</td>\n",
       "      <td>N/A</td>\n",
       "      <td>Negative</td>\n",
       "    </tr>\n",
       "    <tr>\n",
       "      <th>RP-2423_16466_22_112619</th>\n",
       "      <td>P22</td>\n",
       "      <td>W3D1</td>\n",
       "      <td>N/A</td>\n",
       "      <td>Negative</td>\n",
       "    </tr>\n",
       "    <tr>\n",
       "      <th>RP-2423_16466_22_022020</th>\n",
       "      <td>P22</td>\n",
       "      <td>Surg+AC</td>\n",
       "      <td>N/A</td>\n",
       "      <td>Negative</td>\n",
       "    </tr>\n",
       "    <tr>\n",
       "      <th>RP-2423_16466_22_122719</th>\n",
       "      <td>P22</td>\n",
       "      <td>W7D1</td>\n",
       "      <td>N/A</td>\n",
       "      <td>Negative</td>\n",
       "    </tr>\n",
       "    <tr>\n",
       "      <th>RP-2423_16466_17_062519</th>\n",
       "      <td>P17</td>\n",
       "      <td>Baseline</td>\n",
       "      <td>N/A</td>\n",
       "      <td>Negative</td>\n",
       "    </tr>\n",
       "  </tbody>\n",
       "</table>\n",
       "</div>"
      ],
      "text/plain": [
       "                        Patient Timepoint BestResponse      her2\n",
       "RP-2423_16466_22_110719     P22  Baseline          N/A  Negative\n",
       "RP-2423_16466_22_112619     P22      W3D1          N/A  Negative\n",
       "RP-2423_16466_22_022020     P22   Surg+AC          N/A  Negative\n",
       "RP-2423_16466_22_122719     P22      W7D1          N/A  Negative\n",
       "RP-2423_16466_17_062519     P17  Baseline          N/A  Negative"
      ]
     },
     "execution_count": 4,
     "metadata": {},
     "output_type": "execute_result"
    }
   ],
   "source": [
    "metadata.loc[metadata.Patient.isin(['P17','P22','P25']),['Patient','Timepoint','BestResponse','her2']]"
   ]
  },
  {
   "attachments": {},
   "cell_type": "markdown",
   "metadata": {},
   "source": [
    "# Define the Figure and Table output"
   ]
  },
  {
   "cell_type": "code",
   "execution_count": 5,
   "metadata": {},
   "outputs": [],
   "source": [
    "WesTableFile = '../report/table/Table_1_trial_16-466_WES_Data.xlsx'"
   ]
  },
  {
   "attachments": {},
   "cell_type": "markdown",
   "metadata": {},
   "source": [
    "# WES QC"
   ]
  },
  {
   "cell_type": "code",
   "execution_count": 6,
   "metadata": {},
   "outputs": [],
   "source": [
    "wes = metadata.loc[metadata.WES_Profile==True,:]\n",
    "wes.index.name='SampleID'\n",
    "wes_sheets = {\n",
    "    'TableA WES_QC_Metrics':wes.loc[:,metadata.columns.str.contains('WES')].copy()\n",
    "}"
   ]
  },
  {
   "attachments": {},
   "cell_type": "markdown",
   "metadata": {},
   "source": [
    "## WES QC figure"
   ]
  },
  {
   "cell_type": "code",
   "execution_count": 7,
   "metadata": {},
   "outputs": [
    {
     "name": "stdout",
     "output_type": "stream",
     "text": [
      "Samples with TiN > 0.3: N = 0\n"
     ]
    },
    {
     "data": {
      "image/png": "[encoded data removed]",
      "text/plain": [
       "<Figure size 432x288 with 1 Axes>"
      ]
     },
     "metadata": {
      "needs_background": "light"
     },
     "output_type": "display_data"
    }
   ],
   "source": [
    "# TiN: Tumor-in-Normal (TiN) contamination level\n",
    "# TiN > 0.3 is not safe, from the VA lab TWIST pipeline summary slide 3\n",
    "tin_cutoff = 0.3\n",
    "contEst_cutoff = 0.04\n",
    "tb = wes.copy()\n",
    "tb['TiN_Fail'] = tb['WES_combined_TiN'] >tin_cutoff\n",
    "tb['TiN_Fail_Label'] = tb['TiN_Fail'].map(lambda x: 'Fail' if x else 'Pass')\n",
    "total_n = tb['TiN_Fail_Label'].value_counts().to_dict()\n",
    "tb['TiN_Fail_Label'] = tb['TiN_Fail_Label'].map(lambda x: f'{x},N={total_n[x]}')\n",
    "ax = sns.scatterplot(data=tb,y='WES_combined_TiN',x='WES_combined_fracContam',hue='TiN_Fail_Label',palette='Set2')\n",
    "# ax.set_xlim([0,tb.shape[0]+1])\n",
    "ax.set_ylim([0,ax.get_ylim()[1]+0.05])\n",
    "ax.axhline(y=tin_cutoff,linestyle='--',color='gray')\n",
    "ax.axvline(x=contEst_cutoff,linestyle='--',color='gray')\n",
    "ax.legend(loc=(1.03,0.5),title='',frameon=False)\n",
    "ax.set(ylabel='TiN (tumor in normal)',xlabel='cross-sample contamination (contEst)')\n",
    "print(f'Samples with TiN > {tin_cutoff}: N =', tb['TiN_Fail'].sum())"
   ]
  },
  {
   "cell_type": "code",
   "execution_count": 8,
   "metadata": {},
   "outputs": [],
   "source": [
    "wes = wes.loc[\n",
    "    (wes.WES_combined_TiN<=tin_cutoff)&\n",
    "    (wes.WES_combined_fracContam<=contEst_cutoff),:]"
   ]
  },
  {
   "attachments": {},
   "cell_type": "markdown",
   "metadata": {},
   "source": [
    "## Sample distribution after WES QC"
   ]
  },
  {
   "cell_type": "code",
   "execution_count": 9,
   "metadata": {},
   "outputs": [
    {
     "data": {
      "text/plain": [
       "{'matrix': <AxesSubplot:>,\n",
       " 'shading': <AxesSubplot:>,\n",
       " 'totals': <AxesSubplot:>,\n",
       " 'intersections': <AxesSubplot:ylabel='Intersection size'>}"
      ]
     },
     "execution_count": 9,
     "metadata": {},
     "output_type": "execute_result"
    },
    {
     "data": {
      "image/png": "[encoded data removed]",
      "text/plain": [
       "<Figure size 288x320 with 4 Axes>"
      ]
     },
     "metadata": {
      "needs_background": "light"
     },
     "output_type": "display_data"
    }
   ],
   "source": [
    "upset_dt=pd.crosstab(wes['Patient'],wes['Timepoint'])\n",
    "upset_dt = upset_dt.set_index(upset_dt.columns.tolist())\n",
    "upset = UpSet(upset_dt, show_counts=True)\n",
    "upset.plot()"
   ]
  },
  {
   "cell_type": "code",
   "execution_count": 10,
   "metadata": {},
   "outputs": [
    {
     "data": {
      "text/plain": [
       "{'matrix': <AxesSubplot:>,\n",
       " 'shading': <AxesSubplot:>,\n",
       " 'totals': <AxesSubplot:>,\n",
       " 'intersections': <AxesSubplot:ylabel='Intersection size'>}"
      ]
     },
     "execution_count": 10,
     "metadata": {},
     "output_type": "execute_result"
    },
    {
     "data": {
      "image/png": "[encoded data removed]",
      "text/plain": [
       "<Figure size 288x320 with 4 Axes>"
      ]
     },
     "metadata": {
      "needs_background": "light"
     },
     "output_type": "display_data"
    }
   ],
   "source": [
    "upset_dt=pd.crosstab(wes['Patient'],wes['Timepoint'])\n",
    "upset_dt = upset_dt.loc[~upset_dt.index.isin(['P17','P22']),:]\n",
    "upset_dt = upset_dt.set_index(upset_dt.columns.tolist())\n",
    "upset = UpSet(upset_dt, show_counts=True)\n",
    "upset.plot()"
   ]
  },
  {
   "attachments": {},
   "cell_type": "markdown",
   "metadata": {},
   "source": [
    "## Basic genomic feature distribution"
   ]
  },
  {
   "cell_type": "code",
   "execution_count": 11,
   "metadata": {},
   "outputs": [
    {
     "data": {
      "text/html": [
       "<div>\n",
       "<style scoped>\n",
       "    .dataframe tbody tr th:only-of-type {\n",
       "        vertical-align: middle;\n",
       "    }\n",
       "\n",
       "    .dataframe tbody tr th {\n",
       "        vertical-align: top;\n",
       "    }\n",
       "\n",
       "    .dataframe thead th {\n",
       "        text-align: right;\n",
       "    }\n",
       "</style>\n",
       "<table border=\"1\" class=\"dataframe\">\n",
       "  <thead>\n",
       "    <tr style=\"text-align: right;\">\n",
       "      <th></th>\n",
       "      <th>WES_Nonsynonymous_TMB</th>\n",
       "      <th>WES_absolute_purity</th>\n",
       "      <th>WES_absolute_ploidy</th>\n",
       "    </tr>\n",
       "  </thead>\n",
       "  <tbody>\n",
       "    <tr>\n",
       "      <th>count</th>\n",
       "      <td>28.000000</td>\n",
       "      <td>28.000000</td>\n",
       "      <td>28.000000</td>\n",
       "    </tr>\n",
       "    <tr>\n",
       "      <th>mean</th>\n",
       "      <td>3.092832</td>\n",
       "      <td>0.405000</td>\n",
       "      <td>2.925000</td>\n",
       "    </tr>\n",
       "    <tr>\n",
       "      <th>std</th>\n",
       "      <td>3.728314</td>\n",
       "      <td>0.181791</td>\n",
       "      <td>1.078392</td>\n",
       "    </tr>\n",
       "    <tr>\n",
       "      <th>min</th>\n",
       "      <td>0.901865</td>\n",
       "      <td>0.130000</td>\n",
       "      <td>1.700000</td>\n",
       "    </tr>\n",
       "    <tr>\n",
       "      <th>25%</th>\n",
       "      <td>1.557875</td>\n",
       "      <td>0.277500</td>\n",
       "      <td>2.000000</td>\n",
       "    </tr>\n",
       "    <tr>\n",
       "      <th>50%</th>\n",
       "      <td>2.198600</td>\n",
       "      <td>0.375000</td>\n",
       "      <td>3.075000</td>\n",
       "    </tr>\n",
       "    <tr>\n",
       "      <th>75%</th>\n",
       "      <td>2.939469</td>\n",
       "      <td>0.532500</td>\n",
       "      <td>3.532500</td>\n",
       "    </tr>\n",
       "    <tr>\n",
       "      <th>max</th>\n",
       "      <td>20.163020</td>\n",
       "      <td>0.870000</td>\n",
       "      <td>5.510000</td>\n",
       "    </tr>\n",
       "  </tbody>\n",
       "</table>\n",
       "</div>"
      ],
      "text/plain": [
       "       WES_Nonsynonymous_TMB  WES_absolute_purity  WES_absolute_ploidy\n",
       "count              28.000000            28.000000            28.000000\n",
       "mean                3.092832             0.405000             2.925000\n",
       "std                 3.728314             0.181791             1.078392\n",
       "min                 0.901865             0.130000             1.700000\n",
       "25%                 1.557875             0.277500             2.000000\n",
       "50%                 2.198600             0.375000             3.075000\n",
       "75%                 2.939469             0.532500             3.532500\n",
       "max                20.163020             0.870000             5.510000"
      ]
     },
     "execution_count": 11,
     "metadata": {},
     "output_type": "execute_result"
    }
   ],
   "source": [
    "wes.loc[wes.Timepoint=='Baseline',[\n",
    "    'WES_Nonsynonymous_TMB',\n",
    "    'WES_absolute_purity',\n",
    "    'WES_absolute_ploidy'\n",
    "     ]].describe()"
   ]
  },
  {
   "attachments": {},
   "cell_type": "markdown",
   "metadata": {},
   "source": [
    "## Dominant WES signature"
   ]
  },
  {
   "cell_type": "code",
   "execution_count": 12,
   "metadata": {},
   "outputs": [],
   "source": [
    "wes['WES_Dominant_Mutation_Signature']=wes.loc[:,wes.columns.str.startswith('WES_SBS')].dropna().idxmax(axis=1)"
   ]
  },
  {
   "cell_type": "code",
   "execution_count": 13,
   "metadata": {},
   "outputs": [
    {
     "data": {
      "text/plain": [
       "WES_SBS5     7/28 patients, 25.00%\n",
       "WES_SBS46    5/28 patients, 17.86%\n",
       "WES_SBS1     5/28 patients, 17.86%\n",
       "WES_SBS39    3/28 patients, 10.71%\n",
       "WES_SBS2      2/28 patients, 7.14%\n",
       "WES_SBS15     2/28 patients, 7.14%\n",
       "WES_SBS3      1/28 patients, 3.57%\n",
       "WES_SBS42     1/28 patients, 3.57%\n",
       "WES_SBS6      1/28 patients, 3.57%\n",
       "WES_SBS96     1/28 patients, 3.57%\n",
       "Name: WES_Dominant_Mutation_Signature, dtype: object"
      ]
     },
     "execution_count": 13,
     "metadata": {},
     "output_type": "execute_result"
    }
   ],
   "source": [
    "dominant_sig = wes.loc[wes.Timepoint=='Baseline','WES_Dominant_Mutation_Signature'].value_counts()\n",
    "dominant_sig.map(lambda x: f\"{x}/{dominant_sig.sum()} patients, {x/dominant_sig.sum():.2%}\")"
   ]
  },
  {
   "cell_type": "code",
   "execution_count": 14,
   "metadata": {},
   "outputs": [
    {
     "data": {
      "text/plain": [
       "WES_SBS5:Unknown                                                     7/28 patients, 25.00%\n",
       "WES_SBS46:Possible sequencing artefact                               5/28 patients, 17.86%\n",
       "WES_SBS1:Spontaneous or enzymatic deamination of 5-methylcytosine    5/28 patients, 17.86%\n",
       "WES_SBS39:Defects in dna-dsb repair by hr                            3/28 patients, 10.71%\n",
       "WES_SBS2:Apobec cytidine deaminase (c>t)                              2/28 patients, 7.14%\n",
       "WES_SBS15:Defective dna mismatch repair                               2/28 patients, 7.14%\n",
       "WES_SBS3:Defects in dna-dsb repair by hr                              1/28 patients, 3.57%\n",
       "WES_SBS42:Occupational exposure to haloalkanes                        1/28 patients, 3.57%\n",
       "WES_SBS6:Defective dna mismatch repair                                1/28 patients, 3.57%\n",
       "WES_SBS96:Unknown                                                     1/28 patients, 3.57%\n",
       "Name: WES_Dominant_Mutation_Signature, dtype: object"
      ]
     },
     "execution_count": 14,
     "metadata": {},
     "output_type": "execute_result"
    }
   ],
   "source": [
    "aetiology = pd.read_csv(HERE/'external/cosmic_v3_aetiology.csv',index_col=0)\n",
    "aetiology.index = aetiology.index.str.replace('SBS','WES_SBS').str.replace('[a-z]$','',regex=True)\n",
    "aetiology = aetiology.reset_index().drop_duplicates().set_index('index')\n",
    "aetiology = aetiology['aetiology'].str.capitalize().to_dict()\n",
    "aetiology['WES_SBS39'] = aetiology['WES_SBS3']\n",
    "aetiology['WES_SBS96'] = 'Unknown'\n",
    "dominant_sig.index = dominant_sig.index.str.replace('[a-z]$','',regex=True).map(lambda x:f\"{x}:{aetiology[x]}\")\n",
    "dominant_sig.map(lambda x: f\"{x}/{dominant_sig.sum()} patients, {x/dominant_sig.sum():.2%}\")"
   ]
  },
  {
   "attachments": {},
   "cell_type": "markdown",
   "metadata": {},
   "source": [
    "## WES Mutation Frequency"
   ]
  },
  {
   "cell_type": "code",
   "execution_count": 15,
   "metadata": {},
   "outputs": [
    {
     "data": {
      "text/html": [
       "<div>\n",
       "<style scoped>\n",
       "    .dataframe tbody tr th:only-of-type {\n",
       "        vertical-align: middle;\n",
       "    }\n",
       "\n",
       "    .dataframe tbody tr th {\n",
       "        vertical-align: top;\n",
       "    }\n",
       "\n",
       "    .dataframe thead th {\n",
       "        text-align: right;\n",
       "    }\n",
       "</style>\n",
       "<table border=\"1\" class=\"dataframe\">\n",
       "  <thead>\n",
       "    <tr style=\"text-align: right;\">\n",
       "      <th></th>\n",
       "      <th>Gene</th>\n",
       "      <th>Freq_mutation</th>\n",
       "      <th>N_sample</th>\n",
       "      <th>N_Mut</th>\n",
       "      <th>Treatment_Arm</th>\n",
       "      <th>Timepoint</th>\n",
       "    </tr>\n",
       "  </thead>\n",
       "  <tbody>\n",
       "    <tr>\n",
       "      <th>3932</th>\n",
       "      <td>TP53</td>\n",
       "      <td>0.428571</td>\n",
       "      <td>28</td>\n",
       "      <td>12</td>\n",
       "      <td>Chemo-&gt;ICI,ICI-&gt;Chemo</td>\n",
       "      <td>Baseline</td>\n",
       "    </tr>\n",
       "    <tr>\n",
       "      <th>3933</th>\n",
       "      <td>TTN</td>\n",
       "      <td>0.285714</td>\n",
       "      <td>28</td>\n",
       "      <td>8</td>\n",
       "      <td>Chemo-&gt;ICI,ICI-&gt;Chemo</td>\n",
       "      <td>Baseline</td>\n",
       "    </tr>\n",
       "    <tr>\n",
       "      <th>3934</th>\n",
       "      <td>VPS13B</td>\n",
       "      <td>0.250000</td>\n",
       "      <td>28</td>\n",
       "      <td>7</td>\n",
       "      <td>Chemo-&gt;ICI,ICI-&gt;Chemo</td>\n",
       "      <td>Baseline</td>\n",
       "    </tr>\n",
       "    <tr>\n",
       "      <th>3935</th>\n",
       "      <td>OBSCN</td>\n",
       "      <td>0.178571</td>\n",
       "      <td>28</td>\n",
       "      <td>5</td>\n",
       "      <td>Chemo-&gt;ICI,ICI-&gt;Chemo</td>\n",
       "      <td>Baseline</td>\n",
       "    </tr>\n",
       "    <tr>\n",
       "      <th>3936</th>\n",
       "      <td>GATA3</td>\n",
       "      <td>0.178571</td>\n",
       "      <td>28</td>\n",
       "      <td>5</td>\n",
       "      <td>Chemo-&gt;ICI,ICI-&gt;Chemo</td>\n",
       "      <td>Baseline</td>\n",
       "    </tr>\n",
       "    <tr>\n",
       "      <th>3940</th>\n",
       "      <td>MAP3K1</td>\n",
       "      <td>0.142857</td>\n",
       "      <td>28</td>\n",
       "      <td>4</td>\n",
       "      <td>Chemo-&gt;ICI,ICI-&gt;Chemo</td>\n",
       "      <td>Baseline</td>\n",
       "    </tr>\n",
       "    <tr>\n",
       "      <th>3942</th>\n",
       "      <td>MUC16</td>\n",
       "      <td>0.142857</td>\n",
       "      <td>28</td>\n",
       "      <td>4</td>\n",
       "      <td>Chemo-&gt;ICI,ICI-&gt;Chemo</td>\n",
       "      <td>Baseline</td>\n",
       "    </tr>\n",
       "    <tr>\n",
       "      <th>3941</th>\n",
       "      <td>RELN</td>\n",
       "      <td>0.142857</td>\n",
       "      <td>28</td>\n",
       "      <td>4</td>\n",
       "      <td>Chemo-&gt;ICI,ICI-&gt;Chemo</td>\n",
       "      <td>Baseline</td>\n",
       "    </tr>\n",
       "    <tr>\n",
       "      <th>3943</th>\n",
       "      <td>ADAMTSL4</td>\n",
       "      <td>0.142857</td>\n",
       "      <td>28</td>\n",
       "      <td>4</td>\n",
       "      <td>Chemo-&gt;ICI,ICI-&gt;Chemo</td>\n",
       "      <td>Baseline</td>\n",
       "    </tr>\n",
       "    <tr>\n",
       "      <th>3939</th>\n",
       "      <td>ZNF469</td>\n",
       "      <td>0.142857</td>\n",
       "      <td>28</td>\n",
       "      <td>4</td>\n",
       "      <td>Chemo-&gt;ICI,ICI-&gt;Chemo</td>\n",
       "      <td>Baseline</td>\n",
       "    </tr>\n",
       "    <tr>\n",
       "      <th>3938</th>\n",
       "      <td>PCLO</td>\n",
       "      <td>0.142857</td>\n",
       "      <td>28</td>\n",
       "      <td>4</td>\n",
       "      <td>Chemo-&gt;ICI,ICI-&gt;Chemo</td>\n",
       "      <td>Baseline</td>\n",
       "    </tr>\n",
       "    <tr>\n",
       "      <th>3937</th>\n",
       "      <td>PIK3CA</td>\n",
       "      <td>0.142857</td>\n",
       "      <td>28</td>\n",
       "      <td>4</td>\n",
       "      <td>Chemo-&gt;ICI,ICI-&gt;Chemo</td>\n",
       "      <td>Baseline</td>\n",
       "    </tr>\n",
       "    <tr>\n",
       "      <th>3956</th>\n",
       "      <td>NLGN3</td>\n",
       "      <td>0.107143</td>\n",
       "      <td>28</td>\n",
       "      <td>3</td>\n",
       "      <td>Chemo-&gt;ICI,ICI-&gt;Chemo</td>\n",
       "      <td>Baseline</td>\n",
       "    </tr>\n",
       "    <tr>\n",
       "      <th>3967</th>\n",
       "      <td>LRP1B</td>\n",
       "      <td>0.107143</td>\n",
       "      <td>28</td>\n",
       "      <td>3</td>\n",
       "      <td>Chemo-&gt;ICI,ICI-&gt;Chemo</td>\n",
       "      <td>Baseline</td>\n",
       "    </tr>\n",
       "    <tr>\n",
       "      <th>3966</th>\n",
       "      <td>CSMD2</td>\n",
       "      <td>0.107143</td>\n",
       "      <td>28</td>\n",
       "      <td>3</td>\n",
       "      <td>Chemo-&gt;ICI,ICI-&gt;Chemo</td>\n",
       "      <td>Baseline</td>\n",
       "    </tr>\n",
       "  </tbody>\n",
       "</table>\n",
       "</div>"
      ],
      "text/plain": [
       "          Gene  Freq_mutation  N_sample  N_Mut          Treatment_Arm  \\\n",
       "3932      TP53       0.428571        28     12  Chemo->ICI,ICI->Chemo   \n",
       "3933       TTN       0.285714        28      8  Chemo->ICI,ICI->Chemo   \n",
       "3934    VPS13B       0.250000        28      7  Chemo->ICI,ICI->Chemo   \n",
       "3935     OBSCN       0.178571        28      5  Chemo->ICI,ICI->Chemo   \n",
       "3936     GATA3       0.178571        28      5  Chemo->ICI,ICI->Chemo   \n",
       "3940    MAP3K1       0.142857        28      4  Chemo->ICI,ICI->Chemo   \n",
       "3942     MUC16       0.142857        28      4  Chemo->ICI,ICI->Chemo   \n",
       "3941      RELN       0.142857        28      4  Chemo->ICI,ICI->Chemo   \n",
       "3943  ADAMTSL4       0.142857        28      4  Chemo->ICI,ICI->Chemo   \n",
       "3939    ZNF469       0.142857        28      4  Chemo->ICI,ICI->Chemo   \n",
       "3938      PCLO       0.142857        28      4  Chemo->ICI,ICI->Chemo   \n",
       "3937    PIK3CA       0.142857        28      4  Chemo->ICI,ICI->Chemo   \n",
       "3956     NLGN3       0.107143        28      3  Chemo->ICI,ICI->Chemo   \n",
       "3967     LRP1B       0.107143        28      3  Chemo->ICI,ICI->Chemo   \n",
       "3966     CSMD2       0.107143        28      3  Chemo->ICI,ICI->Chemo   \n",
       "\n",
       "     Timepoint  \n",
       "3932  Baseline  \n",
       "3933  Baseline  \n",
       "3934  Baseline  \n",
       "3935  Baseline  \n",
       "3936  Baseline  \n",
       "3940  Baseline  \n",
       "3942  Baseline  \n",
       "3941  Baseline  \n",
       "3943  Baseline  \n",
       "3939  Baseline  \n",
       "3938  Baseline  \n",
       "3937  Baseline  \n",
       "3956  Baseline  \n",
       "3967  Baseline  \n",
       "3966  Baseline  "
      ]
     },
     "execution_count": 15,
     "metadata": {},
     "output_type": "execute_result"
    }
   ],
   "source": [
    "mut_freq = pd.read_csv('../data/processed/mutation_frequency_stats.csv')\n",
    "mut_freq.loc[(mut_freq.Timepoint=='Baseline')&\n",
    "                  (mut_freq.Treatment_Arm=='Chemo->ICI,ICI->Chemo'),\n",
    "                  :].sort_values('N_Mut',ascending=False).head(15)"
   ]
  },
  {
   "cell_type": "code",
   "execution_count": 16,
   "metadata": {},
   "outputs": [
    {
     "data": {
      "text/plain": [
       "['GATA3', 'TP53', 'TTN', 'OBSCN', 'USP35', 'MUC16', 'MKL1', 'VPS13B']"
      ]
     },
     "metadata": {},
     "output_type": "display_data"
    },
    {
     "data": {
      "image/png": "[encoded data removed]",
      "text/plain": [
       "<Figure size 576x360 with 3 Axes>"
      ]
     },
     "metadata": {
      "needs_background": "light"
     },
     "output_type": "display_data"
    }
   ],
   "source": [
    "top_genes = []\n",
    "fig,axs = plt.subplots(1,3,figsize=(8,5),sharey=True)\n",
    "for i,(timepoint, df) in enumerate(mut_freq.loc[\n",
    "    (mut_freq.Timepoint.isin(['Baseline','W3D1','W7D1']))&\n",
    "    (mut_freq.Treatment_Arm=='Chemo->ICI,ICI->Chemo'),:].groupby('Timepoint')):\n",
    "    ax= axs[i]\n",
    "    df = df.sort_values('N_Mut',ascending=False).head(5)\n",
    "    df['Freq_mutation'] = df['Freq_mutation'] * 100\n",
    "    sns.barplot(data=df,y='Freq_mutation',x='Gene',ax=ax,\n",
    "                color=COLOR_PAlETTE['Timepoint'][timepoint])\n",
    "    ylabel='' if i >0 else 'Mutation Frequency %'\n",
    "    ax.set(xlabel='',ylabel=ylabel,title=f\"{timepoint} (N={df.N_sample.values[0]})\")\n",
    "    ax.tick_params(rotation=90)\n",
    "    top_genes = top_genes + df.Gene.tolist()\n",
    "top_genes = list(set(top_genes))\n",
    "display(top_genes)"
   ]
  },
  {
   "cell_type": "code",
   "execution_count": 17,
   "metadata": {},
   "outputs": [
    {
     "data": {
      "text/html": [
       "<div>\n",
       "<style scoped>\n",
       "    .dataframe tbody tr th:only-of-type {\n",
       "        vertical-align: middle;\n",
       "    }\n",
       "\n",
       "    .dataframe tbody tr th {\n",
       "        vertical-align: top;\n",
       "    }\n",
       "\n",
       "    .dataframe thead th {\n",
       "        text-align: right;\n",
       "    }\n",
       "</style>\n",
       "<table border=\"1\" class=\"dataframe\">\n",
       "  <thead>\n",
       "    <tr style=\"text-align: right;\">\n",
       "      <th></th>\n",
       "      <th>Gene</th>\n",
       "      <th>Freq_mutation</th>\n",
       "      <th>N_sample</th>\n",
       "      <th>N_Mut</th>\n",
       "      <th>Treatment_Arm</th>\n",
       "      <th>Timepoint</th>\n",
       "    </tr>\n",
       "  </thead>\n",
       "  <tbody>\n",
       "    <tr>\n",
       "      <th>3937</th>\n",
       "      <td>PIK3CA</td>\n",
       "      <td>0.142857</td>\n",
       "      <td>28</td>\n",
       "      <td>4</td>\n",
       "      <td>Chemo-&gt;ICI,ICI-&gt;Chemo</td>\n",
       "      <td>Baseline</td>\n",
       "    </tr>\n",
       "    <tr>\n",
       "      <th>9236</th>\n",
       "      <td>PIK3CA</td>\n",
       "      <td>0.142857</td>\n",
       "      <td>14</td>\n",
       "      <td>2</td>\n",
       "      <td>Chemo-&gt;ICI</td>\n",
       "      <td>Baseline</td>\n",
       "    </tr>\n",
       "    <tr>\n",
       "      <th>11822</th>\n",
       "      <td>PIK3CA</td>\n",
       "      <td>0.142857</td>\n",
       "      <td>14</td>\n",
       "      <td>2</td>\n",
       "      <td>ICI-&gt;Chemo</td>\n",
       "      <td>Baseline</td>\n",
       "    </tr>\n",
       "  </tbody>\n",
       "</table>\n",
       "</div>"
      ],
      "text/plain": [
       "         Gene  Freq_mutation  N_sample  N_Mut          Treatment_Arm Timepoint\n",
       "3937   PIK3CA       0.142857        28      4  Chemo->ICI,ICI->Chemo  Baseline\n",
       "9236   PIK3CA       0.142857        14      2             Chemo->ICI  Baseline\n",
       "11822  PIK3CA       0.142857        14      2             ICI->Chemo  Baseline"
      ]
     },
     "execution_count": 17,
     "metadata": {},
     "output_type": "execute_result"
    }
   ],
   "source": [
    "mut_freq.loc[(mut_freq.Gene=='PIK3CA')&\n",
    "             (mut_freq.Timepoint=='Baseline'),:]"
   ]
  },
  {
   "cell_type": "code",
   "execution_count": 18,
   "metadata": {},
   "outputs": [
    {
     "data": {
      "text/html": [
       "<div>\n",
       "<style scoped>\n",
       "    .dataframe tbody tr th:only-of-type {\n",
       "        vertical-align: middle;\n",
       "    }\n",
       "\n",
       "    .dataframe tbody tr th {\n",
       "        vertical-align: top;\n",
       "    }\n",
       "\n",
       "    .dataframe thead th {\n",
       "        text-align: right;\n",
       "    }\n",
       "</style>\n",
       "<table border=\"1\" class=\"dataframe\">\n",
       "  <thead>\n",
       "    <tr style=\"text-align: right;\">\n",
       "      <th></th>\n",
       "      <th>rank</th>\n",
       "      <th>gene</th>\n",
       "      <th>longname</th>\n",
       "      <th>codelen</th>\n",
       "      <th>nnei</th>\n",
       "      <th>nncd</th>\n",
       "      <th>nsil</th>\n",
       "      <th>nmis</th>\n",
       "      <th>nstp</th>\n",
       "      <th>nspl</th>\n",
       "      <th>nind</th>\n",
       "      <th>nnon</th>\n",
       "      <th>npat</th>\n",
       "      <th>nsite</th>\n",
       "      <th>pCV</th>\n",
       "      <th>pCL</th>\n",
       "      <th>pFN</th>\n",
       "      <th>p</th>\n",
       "      <th>q</th>\n",
       "    </tr>\n",
       "  </thead>\n",
       "  <tbody>\n",
       "    <tr>\n",
       "      <th>0</th>\n",
       "      <td>1</td>\n",
       "      <td>TP53</td>\n",
       "      <td>tumor protein p53</td>\n",
       "      <td>1890</td>\n",
       "      <td>87</td>\n",
       "      <td>0</td>\n",
       "      <td>0</td>\n",
       "      <td>9</td>\n",
       "      <td>1</td>\n",
       "      <td>0</td>\n",
       "      <td>2</td>\n",
       "      <td>12</td>\n",
       "      <td>11</td>\n",
       "      <td>12</td>\n",
       "      <td>1.892571e-14</td>\n",
       "      <td>1.000</td>\n",
       "      <td>0.00960</td>\n",
       "      <td>2.819966e-14</td>\n",
       "      <td>5.159411e-10</td>\n",
       "    </tr>\n",
       "    <tr>\n",
       "      <th>1</th>\n",
       "      <td>2</td>\n",
       "      <td>GATA3</td>\n",
       "      <td>GATA binding protein 3</td>\n",
       "      <td>1351</td>\n",
       "      <td>433</td>\n",
       "      <td>0</td>\n",
       "      <td>0</td>\n",
       "      <td>2</td>\n",
       "      <td>0</td>\n",
       "      <td>0</td>\n",
       "      <td>4</td>\n",
       "      <td>6</td>\n",
       "      <td>6</td>\n",
       "      <td>6</td>\n",
       "      <td>1.530146e-08</td>\n",
       "      <td>1.000</td>\n",
       "      <td>0.29000</td>\n",
       "      <td>1.282278e-07</td>\n",
       "      <td>1.173028e-03</td>\n",
       "    </tr>\n",
       "    <tr>\n",
       "      <th>6</th>\n",
       "      <td>7</td>\n",
       "      <td>MKL1</td>\n",
       "      <td>megakaryoblastic leukemia (translocation) 1</td>\n",
       "      <td>2844</td>\n",
       "      <td>94</td>\n",
       "      <td>0</td>\n",
       "      <td>0</td>\n",
       "      <td>3</td>\n",
       "      <td>0</td>\n",
       "      <td>0</td>\n",
       "      <td>0</td>\n",
       "      <td>3</td>\n",
       "      <td>3</td>\n",
       "      <td>1</td>\n",
       "      <td>3.871218e-04</td>\n",
       "      <td>0.001</td>\n",
       "      <td>0.56096</td>\n",
       "      <td>6.102792e-06</td>\n",
       "      <td>1.595095e-02</td>\n",
       "    </tr>\n",
       "    <tr>\n",
       "      <th>7</th>\n",
       "      <td>8</td>\n",
       "      <td>USP35</td>\n",
       "      <td>ubiquitin specific peptidase 35</td>\n",
       "      <td>3097</td>\n",
       "      <td>109</td>\n",
       "      <td>0</td>\n",
       "      <td>0</td>\n",
       "      <td>4</td>\n",
       "      <td>0</td>\n",
       "      <td>0</td>\n",
       "      <td>0</td>\n",
       "      <td>4</td>\n",
       "      <td>4</td>\n",
       "      <td>3</td>\n",
       "      <td>2.590304e-05</td>\n",
       "      <td>0.026</td>\n",
       "      <td>0.37500</td>\n",
       "      <td>7.263564e-06</td>\n",
       "      <td>1.661177e-02</td>\n",
       "    </tr>\n",
       "    <tr>\n",
       "      <th>307</th>\n",
       "      <td>308</td>\n",
       "      <td>VPS13B</td>\n",
       "      <td>vacuolar protein sorting 13 homolog B (yeast)</td>\n",
       "      <td>12503</td>\n",
       "      <td>2</td>\n",
       "      <td>0</td>\n",
       "      <td>0</td>\n",
       "      <td>4</td>\n",
       "      <td>0</td>\n",
       "      <td>1</td>\n",
       "      <td>1</td>\n",
       "      <td>6</td>\n",
       "      <td>6</td>\n",
       "      <td>6</td>\n",
       "      <td>1.386857e-02</td>\n",
       "      <td>1.000</td>\n",
       "      <td>0.44800</td>\n",
       "      <td>4.325811e-02</td>\n",
       "      <td>1.000000e+00</td>\n",
       "    </tr>\n",
       "    <tr>\n",
       "      <th>430</th>\n",
       "      <td>431</td>\n",
       "      <td>PIK3CA</td>\n",
       "      <td>phosphoinositide-3-kinase, catalytic, alpha po...</td>\n",
       "      <td>3287</td>\n",
       "      <td>2</td>\n",
       "      <td>0</td>\n",
       "      <td>0</td>\n",
       "      <td>7</td>\n",
       "      <td>0</td>\n",
       "      <td>0</td>\n",
       "      <td>0</td>\n",
       "      <td>7</td>\n",
       "      <td>5</td>\n",
       "      <td>6</td>\n",
       "      <td>2.431317e-01</td>\n",
       "      <td>0.040</td>\n",
       "      <td>0.22400</td>\n",
       "      <td>5.702362e-02</td>\n",
       "      <td>1.000000e+00</td>\n",
       "    </tr>\n",
       "    <tr>\n",
       "      <th>2055</th>\n",
       "      <td>2056</td>\n",
       "      <td>OBSCN</td>\n",
       "      <td>obscurin, cytoskeletal calmodulin and titin-in...</td>\n",
       "      <td>25533</td>\n",
       "      <td>1</td>\n",
       "      <td>2</td>\n",
       "      <td>0</td>\n",
       "      <td>5</td>\n",
       "      <td>0</td>\n",
       "      <td>0</td>\n",
       "      <td>1</td>\n",
       "      <td>6</td>\n",
       "      <td>6</td>\n",
       "      <td>6</td>\n",
       "      <td>1.983895e-01</td>\n",
       "      <td>1.000</td>\n",
       "      <td>0.60300</td>\n",
       "      <td>5.192892e-01</td>\n",
       "      <td>1.000000e+00</td>\n",
       "    </tr>\n",
       "    <tr>\n",
       "      <th>2128</th>\n",
       "      <td>2129</td>\n",
       "      <td>MUC16</td>\n",
       "      <td>mucin 16, cell surface associated</td>\n",
       "      <td>43858</td>\n",
       "      <td>0</td>\n",
       "      <td>0</td>\n",
       "      <td>2</td>\n",
       "      <td>4</td>\n",
       "      <td>0</td>\n",
       "      <td>0</td>\n",
       "      <td>0</td>\n",
       "      <td>4</td>\n",
       "      <td>4</td>\n",
       "      <td>4</td>\n",
       "      <td>7.195301e-01</td>\n",
       "      <td>1.000</td>\n",
       "      <td>0.44800</td>\n",
       "      <td>7.440977e-01</td>\n",
       "      <td>1.000000e+00</td>\n",
       "    </tr>\n",
       "    <tr>\n",
       "      <th>2134</th>\n",
       "      <td>2135</td>\n",
       "      <td>TTN</td>\n",
       "      <td>titin</td>\n",
       "      <td>111447</td>\n",
       "      <td>1</td>\n",
       "      <td>1</td>\n",
       "      <td>2</td>\n",
       "      <td>9</td>\n",
       "      <td>0</td>\n",
       "      <td>0</td>\n",
       "      <td>0</td>\n",
       "      <td>9</td>\n",
       "      <td>7</td>\n",
       "      <td>9</td>\n",
       "      <td>9.530543e-01</td>\n",
       "      <td>1.000</td>\n",
       "      <td>0.38900</td>\n",
       "      <td>7.667753e-01</td>\n",
       "      <td>1.000000e+00</td>\n",
       "    </tr>\n",
       "  </tbody>\n",
       "</table>\n",
       "</div>"
      ],
      "text/plain": [
       "      rank    gene                                           longname  \\\n",
       "0        1    TP53                                  tumor protein p53   \n",
       "1        2   GATA3                             GATA binding protein 3   \n",
       "6        7    MKL1        megakaryoblastic leukemia (translocation) 1   \n",
       "7        8   USP35                    ubiquitin specific peptidase 35   \n",
       "307    308  VPS13B      vacuolar protein sorting 13 homolog B (yeast)   \n",
       "430    431  PIK3CA  phosphoinositide-3-kinase, catalytic, alpha po...   \n",
       "2055  2056   OBSCN  obscurin, cytoskeletal calmodulin and titin-in...   \n",
       "2128  2129   MUC16                  mucin 16, cell surface associated   \n",
       "2134  2135     TTN                                              titin   \n",
       "\n",
       "      codelen  nnei  nncd  nsil  nmis  nstp  nspl  nind  nnon  npat  nsite  \\\n",
       "0        1890    87     0     0     9     1     0     2    12    11     12   \n",
       "1        1351   433     0     0     2     0     0     4     6     6      6   \n",
       "6        2844    94     0     0     3     0     0     0     3     3      1   \n",
       "7        3097   109     0     0     4     0     0     0     4     4      3   \n",
       "307     12503     2     0     0     4     0     1     1     6     6      6   \n",
       "430      3287     2     0     0     7     0     0     0     7     5      6   \n",
       "2055    25533     1     2     0     5     0     0     1     6     6      6   \n",
       "2128    43858     0     0     2     4     0     0     0     4     4      4   \n",
       "2134   111447     1     1     2     9     0     0     0     9     7      9   \n",
       "\n",
       "               pCV    pCL      pFN             p             q  \n",
       "0     1.892571e-14  1.000  0.00960  2.819966e-14  5.159411e-10  \n",
       "1     1.530146e-08  1.000  0.29000  1.282278e-07  1.173028e-03  \n",
       "6     3.871218e-04  0.001  0.56096  6.102792e-06  1.595095e-02  \n",
       "7     2.590304e-05  0.026  0.37500  7.263564e-06  1.661177e-02  \n",
       "307   1.386857e-02  1.000  0.44800  4.325811e-02  1.000000e+00  \n",
       "430   2.431317e-01  0.040  0.22400  5.702362e-02  1.000000e+00  \n",
       "2055  1.983895e-01  1.000  0.60300  5.192892e-01  1.000000e+00  \n",
       "2128  7.195301e-01  1.000  0.44800  7.440977e-01  1.000000e+00  \n",
       "2134  9.530543e-01  1.000  0.38900  7.667753e-01  1.000000e+00  "
      ]
     },
     "execution_count": 18,
     "metadata": {},
     "output_type": "execute_result"
    }
   ],
   "source": [
    "mutsigcv.loc[mutsigcv.gene.isin(top_genes+['PIK3CA']),:]"
   ]
  },
  {
   "attachments": {},
   "cell_type": "markdown",
   "metadata": {},
   "source": [
    "## Single gene predictor"
   ]
  },
  {
   "cell_type": "code",
   "execution_count": 19,
   "metadata": {},
   "outputs": [
    {
     "data": {
      "text/html": [
       "<div>\n",
       "<style scoped>\n",
       "    .dataframe tbody tr th:only-of-type {\n",
       "        vertical-align: middle;\n",
       "    }\n",
       "\n",
       "    .dataframe tbody tr th {\n",
       "        vertical-align: top;\n",
       "    }\n",
       "\n",
       "    .dataframe thead th {\n",
       "        text-align: right;\n",
       "    }\n",
       "</style>\n",
       "<table border=\"1\" class=\"dataframe\">\n",
       "  <thead>\n",
       "    <tr style=\"text-align: right;\">\n",
       "      <th></th>\n",
       "      <th>category</th>\n",
       "      <th>Zscore</th>\n",
       "      <th>Pvalue</th>\n",
       "      <th>Method</th>\n",
       "      <th>padj</th>\n",
       "      <th>Timepoint</th>\n",
       "      <th>Treatment_Arm</th>\n",
       "      <th>Comparison</th>\n",
       "      <th>N_Sample</th>\n",
       "    </tr>\n",
       "  </thead>\n",
       "  <tbody>\n",
       "    <tr>\n",
       "      <th>5</th>\n",
       "      <td>ABCA13</td>\n",
       "      <td>1.785285</td>\n",
       "      <td>0.074215</td>\n",
       "      <td>GLM-Binomial</td>\n",
       "      <td>0.999124</td>\n",
       "      <td>Baseline</td>\n",
       "      <td>Chemo-&gt;ICI</td>\n",
       "      <td>0-I:1,II-III:0</td>\n",
       "      <td>0.0:10,1.0:3</td>\n",
       "    </tr>\n",
       "    <tr>\n",
       "      <th>7261</th>\n",
       "      <td>ABCA13</td>\n",
       "      <td>1.574680</td>\n",
       "      <td>0.115330</td>\n",
       "      <td>GLM-Binomial</td>\n",
       "      <td>0.999257</td>\n",
       "      <td>Baseline</td>\n",
       "      <td>Chemo-&gt;ICI,ICI-&gt;Chemo</td>\n",
       "      <td>0-I:1,II-III:0</td>\n",
       "      <td>0.0:20,1.0:6</td>\n",
       "    </tr>\n",
       "    <tr>\n",
       "      <th>10393</th>\n",
       "      <td>TICRR</td>\n",
       "      <td>1.419998</td>\n",
       "      <td>0.155608</td>\n",
       "      <td>GLM-Binomial</td>\n",
       "      <td>0.999257</td>\n",
       "      <td>Baseline</td>\n",
       "      <td>Chemo-&gt;ICI,ICI-&gt;Chemo</td>\n",
       "      <td>0-I:1,II-III:0</td>\n",
       "      <td>0.0:20,1.0:6</td>\n",
       "    </tr>\n",
       "    <tr>\n",
       "      <th>7423</th>\n",
       "      <td>ANKRD53</td>\n",
       "      <td>1.412089</td>\n",
       "      <td>0.157924</td>\n",
       "      <td>GLM-Binomial</td>\n",
       "      <td>0.999257</td>\n",
       "      <td>Baseline</td>\n",
       "      <td>Chemo-&gt;ICI,ICI-&gt;Chemo</td>\n",
       "      <td>0-I:1,II-III:0</td>\n",
       "      <td>0.0:20,1.0:6</td>\n",
       "    </tr>\n",
       "    <tr>\n",
       "      <th>8699</th>\n",
       "      <td>IL17C</td>\n",
       "      <td>1.412089</td>\n",
       "      <td>0.157924</td>\n",
       "      <td>GLM-Binomial</td>\n",
       "      <td>0.999257</td>\n",
       "      <td>Baseline</td>\n",
       "      <td>Chemo-&gt;ICI,ICI-&gt;Chemo</td>\n",
       "      <td>0-I:1,II-III:0</td>\n",
       "      <td>0.0:20,1.0:6</td>\n",
       "    </tr>\n",
       "    <tr>\n",
       "      <th>10051</th>\n",
       "      <td>SHROOM3</td>\n",
       "      <td>1.394720</td>\n",
       "      <td>0.163100</td>\n",
       "      <td>GLM-Binomial</td>\n",
       "      <td>0.999257</td>\n",
       "      <td>Baseline</td>\n",
       "      <td>Chemo-&gt;ICI,ICI-&gt;Chemo</td>\n",
       "      <td>0-I:1,II-III:0</td>\n",
       "      <td>0.0:20,1.0:6</td>\n",
       "    </tr>\n",
       "    <tr>\n",
       "      <th>8078</th>\n",
       "      <td>DFFB</td>\n",
       "      <td>1.350444</td>\n",
       "      <td>0.176874</td>\n",
       "      <td>GLM-Binomial</td>\n",
       "      <td>0.999257</td>\n",
       "      <td>Baseline</td>\n",
       "      <td>Chemo-&gt;ICI,ICI-&gt;Chemo</td>\n",
       "      <td>0-I:1,II-III:0</td>\n",
       "      <td>0.0:20,1.0:6</td>\n",
       "    </tr>\n",
       "    <tr>\n",
       "      <th>3385</th>\n",
       "      <td>VPS13B</td>\n",
       "      <td>1.348228</td>\n",
       "      <td>0.177585</td>\n",
       "      <td>GLM-Binomial</td>\n",
       "      <td>0.999124</td>\n",
       "      <td>Baseline</td>\n",
       "      <td>Chemo-&gt;ICI</td>\n",
       "      <td>0-I:1,II-III:0</td>\n",
       "      <td>0.0:10,1.0:3</td>\n",
       "    </tr>\n",
       "    <tr>\n",
       "      <th>9609</th>\n",
       "      <td>PITPNM1</td>\n",
       "      <td>1.280201</td>\n",
       "      <td>0.200474</td>\n",
       "      <td>GLM-Binomial</td>\n",
       "      <td>0.999257</td>\n",
       "      <td>Baseline</td>\n",
       "      <td>Chemo-&gt;ICI,ICI-&gt;Chemo</td>\n",
       "      <td>0-I:1,II-III:0</td>\n",
       "      <td>0.0:20,1.0:6</td>\n",
       "    </tr>\n",
       "    <tr>\n",
       "      <th>9402</th>\n",
       "      <td>OBSCN</td>\n",
       "      <td>1.248464</td>\n",
       "      <td>0.211861</td>\n",
       "      <td>GLM-Binomial</td>\n",
       "      <td>0.999257</td>\n",
       "      <td>Baseline</td>\n",
       "      <td>Chemo-&gt;ICI,ICI-&gt;Chemo</td>\n",
       "      <td>0-I:1,II-III:0</td>\n",
       "      <td>0.0:20,1.0:6</td>\n",
       "    </tr>\n",
       "    <tr>\n",
       "      <th>10439</th>\n",
       "      <td>TMEM64</td>\n",
       "      <td>1.165931</td>\n",
       "      <td>0.243642</td>\n",
       "      <td>GLM-Binomial</td>\n",
       "      <td>0.999257</td>\n",
       "      <td>Baseline</td>\n",
       "      <td>Chemo-&gt;ICI,ICI-&gt;Chemo</td>\n",
       "      <td>0-I:1,II-III:0</td>\n",
       "      <td>0.0:20,1.0:6</td>\n",
       "    </tr>\n",
       "    <tr>\n",
       "      <th>8608</th>\n",
       "      <td>HELZ2</td>\n",
       "      <td>1.146235</td>\n",
       "      <td>0.251698</td>\n",
       "      <td>GLM-Binomial</td>\n",
       "      <td>0.999257</td>\n",
       "      <td>Baseline</td>\n",
       "      <td>Chemo-&gt;ICI,ICI-&gt;Chemo</td>\n",
       "      <td>0-I:1,II-III:0</td>\n",
       "      <td>0.0:20,1.0:6</td>\n",
       "    </tr>\n",
       "    <tr>\n",
       "      <th>8214</th>\n",
       "      <td>EIF2AK1</td>\n",
       "      <td>1.146235</td>\n",
       "      <td>0.251698</td>\n",
       "      <td>GLM-Binomial</td>\n",
       "      <td>0.999257</td>\n",
       "      <td>Baseline</td>\n",
       "      <td>Chemo-&gt;ICI,ICI-&gt;Chemo</td>\n",
       "      <td>0-I:1,II-III:0</td>\n",
       "      <td>0.0:20,1.0:6</td>\n",
       "    </tr>\n",
       "    <tr>\n",
       "      <th>9513</th>\n",
       "      <td>PCDH15</td>\n",
       "      <td>1.130171</td>\n",
       "      <td>0.258404</td>\n",
       "      <td>GLM-Binomial</td>\n",
       "      <td>0.999257</td>\n",
       "      <td>Baseline</td>\n",
       "      <td>Chemo-&gt;ICI,ICI-&gt;Chemo</td>\n",
       "      <td>0-I:1,II-III:0</td>\n",
       "      <td>0.0:20,1.0:6</td>\n",
       "    </tr>\n",
       "    <tr>\n",
       "      <th>10475</th>\n",
       "      <td>TP53</td>\n",
       "      <td>1.129931</td>\n",
       "      <td>0.258505</td>\n",
       "      <td>GLM-Binomial</td>\n",
       "      <td>0.999257</td>\n",
       "      <td>Baseline</td>\n",
       "      <td>Chemo-&gt;ICI,ICI-&gt;Chemo</td>\n",
       "      <td>0-I:1,II-III:0</td>\n",
       "      <td>0.0:20,1.0:6</td>\n",
       "    </tr>\n",
       "    <tr>\n",
       "      <th>5476</th>\n",
       "      <td>MDN1</td>\n",
       "      <td>1.107047</td>\n",
       "      <td>0.268274</td>\n",
       "      <td>GLM-Binomial</td>\n",
       "      <td>0.999498</td>\n",
       "      <td>Baseline</td>\n",
       "      <td>ICI-&gt;Chemo</td>\n",
       "      <td>0-I:1,II-III:0</td>\n",
       "      <td>0.0:10,1.0:3</td>\n",
       "    </tr>\n",
       "    <tr>\n",
       "      <th>8148</th>\n",
       "      <td>DOCK4</td>\n",
       "      <td>1.087179</td>\n",
       "      <td>0.276958</td>\n",
       "      <td>GLM-Binomial</td>\n",
       "      <td>0.999257</td>\n",
       "      <td>Baseline</td>\n",
       "      <td>Chemo-&gt;ICI,ICI-&gt;Chemo</td>\n",
       "      <td>0-I:1,II-III:0</td>\n",
       "      <td>0.0:20,1.0:6</td>\n",
       "    </tr>\n",
       "    <tr>\n",
       "      <th>9504</th>\n",
       "      <td>PAX8</td>\n",
       "      <td>1.087179</td>\n",
       "      <td>0.276958</td>\n",
       "      <td>GLM-Binomial</td>\n",
       "      <td>0.999257</td>\n",
       "      <td>Baseline</td>\n",
       "      <td>Chemo-&gt;ICI,ICI-&gt;Chemo</td>\n",
       "      <td>0-I:1,II-III:0</td>\n",
       "      <td>0.0:20,1.0:6</td>\n",
       "    </tr>\n",
       "    <tr>\n",
       "      <th>822</th>\n",
       "      <td>DFFB</td>\n",
       "      <td>1.070224</td>\n",
       "      <td>0.284518</td>\n",
       "      <td>GLM-Binomial</td>\n",
       "      <td>0.999124</td>\n",
       "      <td>Baseline</td>\n",
       "      <td>Chemo-&gt;ICI</td>\n",
       "      <td>0-I:1,II-III:0</td>\n",
       "      <td>0.0:10,1.0:3</td>\n",
       "    </tr>\n",
       "    <tr>\n",
       "      <th>10792</th>\n",
       "      <td>ZNF284</td>\n",
       "      <td>1.041512</td>\n",
       "      <td>0.297638</td>\n",
       "      <td>GLM-Binomial</td>\n",
       "      <td>0.999257</td>\n",
       "      <td>Baseline</td>\n",
       "      <td>Chemo-&gt;ICI,ICI-&gt;Chemo</td>\n",
       "      <td>0-I:1,II-III:0</td>\n",
       "      <td>0.0:20,1.0:6</td>\n",
       "    </tr>\n",
       "  </tbody>\n",
       "</table>\n",
       "</div>"
      ],
      "text/plain": [
       "      category    Zscore    Pvalue        Method      padj Timepoint  \\\n",
       "5       ABCA13  1.785285  0.074215  GLM-Binomial  0.999124  Baseline   \n",
       "7261    ABCA13  1.574680  0.115330  GLM-Binomial  0.999257  Baseline   \n",
       "10393    TICRR  1.419998  0.155608  GLM-Binomial  0.999257  Baseline   \n",
       "7423   ANKRD53  1.412089  0.157924  GLM-Binomial  0.999257  Baseline   \n",
       "8699     IL17C  1.412089  0.157924  GLM-Binomial  0.999257  Baseline   \n",
       "10051  SHROOM3  1.394720  0.163100  GLM-Binomial  0.999257  Baseline   \n",
       "8078      DFFB  1.350444  0.176874  GLM-Binomial  0.999257  Baseline   \n",
       "3385    VPS13B  1.348228  0.177585  GLM-Binomial  0.999124  Baseline   \n",
       "9609   PITPNM1  1.280201  0.200474  GLM-Binomial  0.999257  Baseline   \n",
       "9402     OBSCN  1.248464  0.211861  GLM-Binomial  0.999257  Baseline   \n",
       "10439   TMEM64  1.165931  0.243642  GLM-Binomial  0.999257  Baseline   \n",
       "8608     HELZ2  1.146235  0.251698  GLM-Binomial  0.999257  Baseline   \n",
       "8214   EIF2AK1  1.146235  0.251698  GLM-Binomial  0.999257  Baseline   \n",
       "9513    PCDH15  1.130171  0.258404  GLM-Binomial  0.999257  Baseline   \n",
       "10475     TP53  1.129931  0.258505  GLM-Binomial  0.999257  Baseline   \n",
       "5476      MDN1  1.107047  0.268274  GLM-Binomial  0.999498  Baseline   \n",
       "8148     DOCK4  1.087179  0.276958  GLM-Binomial  0.999257  Baseline   \n",
       "9504      PAX8  1.087179  0.276958  GLM-Binomial  0.999257  Baseline   \n",
       "822       DFFB  1.070224  0.284518  GLM-Binomial  0.999124  Baseline   \n",
       "10792   ZNF284  1.041512  0.297638  GLM-Binomial  0.999257  Baseline   \n",
       "\n",
       "               Treatment_Arm      Comparison      N_Sample  \n",
       "5                 Chemo->ICI  0-I:1,II-III:0  0.0:10,1.0:3  \n",
       "7261   Chemo->ICI,ICI->Chemo  0-I:1,II-III:0  0.0:20,1.0:6  \n",
       "10393  Chemo->ICI,ICI->Chemo  0-I:1,II-III:0  0.0:20,1.0:6  \n",
       "7423   Chemo->ICI,ICI->Chemo  0-I:1,II-III:0  0.0:20,1.0:6  \n",
       "8699   Chemo->ICI,ICI->Chemo  0-I:1,II-III:0  0.0:20,1.0:6  \n",
       "10051  Chemo->ICI,ICI->Chemo  0-I:1,II-III:0  0.0:20,1.0:6  \n",
       "8078   Chemo->ICI,ICI->Chemo  0-I:1,II-III:0  0.0:20,1.0:6  \n",
       "3385              Chemo->ICI  0-I:1,II-III:0  0.0:10,1.0:3  \n",
       "9609   Chemo->ICI,ICI->Chemo  0-I:1,II-III:0  0.0:20,1.0:6  \n",
       "9402   Chemo->ICI,ICI->Chemo  0-I:1,II-III:0  0.0:20,1.0:6  \n",
       "10439  Chemo->ICI,ICI->Chemo  0-I:1,II-III:0  0.0:20,1.0:6  \n",
       "8608   Chemo->ICI,ICI->Chemo  0-I:1,II-III:0  0.0:20,1.0:6  \n",
       "8214   Chemo->ICI,ICI->Chemo  0-I:1,II-III:0  0.0:20,1.0:6  \n",
       "9513   Chemo->ICI,ICI->Chemo  0-I:1,II-III:0  0.0:20,1.0:6  \n",
       "10475  Chemo->ICI,ICI->Chemo  0-I:1,II-III:0  0.0:20,1.0:6  \n",
       "5476              ICI->Chemo  0-I:1,II-III:0  0.0:10,1.0:3  \n",
       "8148   Chemo->ICI,ICI->Chemo  0-I:1,II-III:0  0.0:20,1.0:6  \n",
       "9504   Chemo->ICI,ICI->Chemo  0-I:1,II-III:0  0.0:20,1.0:6  \n",
       "822               Chemo->ICI  0-I:1,II-III:0  0.0:10,1.0:3  \n",
       "10792  Chemo->ICI,ICI->Chemo  0-I:1,II-III:0  0.0:20,1.0:6  "
      ]
     },
     "execution_count": 19,
     "metadata": {},
     "output_type": "execute_result"
    }
   ],
   "source": [
    "dataset.load('mutation_Response').sort_values('Pvalue').head(20)"
   ]
  },
  {
   "attachments": {},
   "cell_type": "markdown",
   "metadata": {},
   "source": [
    "## WES features association with response\n"
   ]
  },
  {
   "cell_type": "markdown",
   "metadata": {},
   "source": [
    "### Test the Defects in dna-dsb repair by hr signature association"
   ]
  },
  {
   "cell_type": "code",
   "execution_count": 20,
   "metadata": {},
   "outputs": [
    {
     "data": {
      "text/plain": [
       "[('WES_SBS3', 'Defects in dna-dsb repair by hr'),\n",
       " ('WES_SBS39', 'Defects in dna-dsb repair by hr')]"
      ]
     },
     "execution_count": 20,
     "metadata": {},
     "output_type": "execute_result"
    }
   ],
   "source": [
    "from scipy.stats import fisher_exact\n",
    "[ (k,v) for k,v in aetiology.items() if 'hr' in v]"
   ]
  },
  {
   "cell_type": "code",
   "execution_count": 21,
   "metadata": {},
   "outputs": [
    {
     "data": {
      "text/html": [
       "<div>\n",
       "<style scoped>\n",
       "    .dataframe tbody tr th:only-of-type {\n",
       "        vertical-align: middle;\n",
       "    }\n",
       "\n",
       "    .dataframe tbody tr th {\n",
       "        vertical-align: top;\n",
       "    }\n",
       "\n",
       "    .dataframe thead th {\n",
       "        text-align: right;\n",
       "    }\n",
       "</style>\n",
       "<table border=\"1\" class=\"dataframe\">\n",
       "  <thead>\n",
       "    <tr style=\"text-align: right;\">\n",
       "      <th>Defects in dna-dsb repair by hr</th>\n",
       "      <th>0</th>\n",
       "      <th>1</th>\n",
       "    </tr>\n",
       "    <tr>\n",
       "      <th>BestResponse</th>\n",
       "      <th></th>\n",
       "      <th></th>\n",
       "    </tr>\n",
       "  </thead>\n",
       "  <tbody>\n",
       "    <tr>\n",
       "      <th>0-I</th>\n",
       "      <td>4</td>\n",
       "      <td>2</td>\n",
       "    </tr>\n",
       "    <tr>\n",
       "      <th>II-III</th>\n",
       "      <td>18</td>\n",
       "      <td>2</td>\n",
       "    </tr>\n",
       "  </tbody>\n",
       "</table>\n",
       "</div>"
      ],
      "text/plain": [
       "Defects in dna-dsb repair by hr   0  1\n",
       "BestResponse                          \n",
       "0-I                               4  2\n",
       "II-III                           18  2"
      ]
     },
     "metadata": {},
     "output_type": "display_data"
    },
    {
     "data": {
      "text/plain": [
       "(0.2222222222222222, 0.2183946488294314)"
      ]
     },
     "execution_count": 21,
     "metadata": {},
     "output_type": "execute_result"
    }
   ],
   "source": [
    "timepoint ='Baseline'\n",
    "data = wes.loc[(wes.Timepoint==timepoint)&(wes.BestResponse!='N/A'),\n",
    "               ['BestResponse','WES_Dominant_Mutation_Signature']].copy()\n",
    "data = pd.get_dummies(data,columns=['WES_Dominant_Mutation_Signature'])\n",
    "data['Defects in dna-dsb repair by hr'] = data[['WES_Dominant_Mutation_Signature_WES_SBS3','WES_Dominant_Mutation_Signature_WES_SBS39']].sum(axis=1)\n",
    "table = pd.crosstab(data['BestResponse'],data['Defects in dna-dsb repair by hr'])\n",
    "display(table)\n",
    "fisher_exact(table)"
   ]
  },
  {
   "cell_type": "markdown",
   "metadata": {},
   "source": [
    "### Test Apobec related signature association"
   ]
  },
  {
   "cell_type": "code",
   "execution_count": 22,
   "metadata": {},
   "outputs": [
    {
     "data": {
      "text/plain": [
       "[('WES_SBS2', 'Apobec cytidine deaminase (c>t)')]"
      ]
     },
     "execution_count": 22,
     "metadata": {},
     "output_type": "execute_result"
    }
   ],
   "source": [
    "[ (k,v) for k,v in aetiology.items() if 'Apobec' in v and k in wes['WES_Dominant_Mutation_Signature'].tolist()]"
   ]
  },
  {
   "cell_type": "code",
   "execution_count": 23,
   "metadata": {},
   "outputs": [
    {
     "data": {
      "text/html": [
       "<div>\n",
       "<style scoped>\n",
       "    .dataframe tbody tr th:only-of-type {\n",
       "        vertical-align: middle;\n",
       "    }\n",
       "\n",
       "    .dataframe tbody tr th {\n",
       "        vertical-align: top;\n",
       "    }\n",
       "\n",
       "    .dataframe thead th {\n",
       "        text-align: right;\n",
       "    }\n",
       "</style>\n",
       "<table border=\"1\" class=\"dataframe\">\n",
       "  <thead>\n",
       "    <tr style=\"text-align: right;\">\n",
       "      <th>Apobec</th>\n",
       "      <th>0</th>\n",
       "      <th>1</th>\n",
       "    </tr>\n",
       "    <tr>\n",
       "      <th>BestResponse</th>\n",
       "      <th></th>\n",
       "      <th></th>\n",
       "    </tr>\n",
       "  </thead>\n",
       "  <tbody>\n",
       "    <tr>\n",
       "      <th>0-I</th>\n",
       "      <td>6</td>\n",
       "      <td>0</td>\n",
       "    </tr>\n",
       "    <tr>\n",
       "      <th>II-III</th>\n",
       "      <td>19</td>\n",
       "      <td>1</td>\n",
       "    </tr>\n",
       "  </tbody>\n",
       "</table>\n",
       "</div>"
      ],
      "text/plain": [
       "Apobec         0  1\n",
       "BestResponse       \n",
       "0-I            6  0\n",
       "II-III        19  1"
      ]
     },
     "metadata": {},
     "output_type": "display_data"
    },
    {
     "data": {
      "text/plain": [
       "(inf, 1.0)"
      ]
     },
     "execution_count": 23,
     "metadata": {},
     "output_type": "execute_result"
    }
   ],
   "source": [
    "timepoint ='Baseline'\n",
    "data = wes.loc[(wes.Timepoint==timepoint)&(wes.BestResponse!='N/A'),\n",
    "               ['BestResponse','WES_Dominant_Mutation_Signature']].copy()\n",
    "data = pd.get_dummies(data,columns=['WES_Dominant_Mutation_Signature'])\n",
    "data['Apobec'] = data[['WES_Dominant_Mutation_Signature_WES_SBS2']].sum(axis=1)\n",
    "table = pd.crosstab(data['BestResponse'],data['Apobec'])\n",
    "display(table)\n",
    "fisher_exact(table)"
   ]
  },
  {
   "cell_type": "code",
   "execution_count": 24,
   "metadata": {},
   "outputs": [
    {
     "data": {
      "text/html": [
       "<div>\n",
       "<style scoped>\n",
       "    .dataframe tbody tr th:only-of-type {\n",
       "        vertical-align: middle;\n",
       "    }\n",
       "\n",
       "    .dataframe tbody tr th {\n",
       "        vertical-align: top;\n",
       "    }\n",
       "\n",
       "    .dataframe thead th {\n",
       "        text-align: right;\n",
       "    }\n",
       "</style>\n",
       "<table border=\"1\" class=\"dataframe\">\n",
       "  <thead>\n",
       "    <tr style=\"text-align: right;\">\n",
       "      <th>SBS1</th>\n",
       "      <th>0</th>\n",
       "      <th>1</th>\n",
       "    </tr>\n",
       "    <tr>\n",
       "      <th>BestResponse</th>\n",
       "      <th></th>\n",
       "      <th></th>\n",
       "    </tr>\n",
       "  </thead>\n",
       "  <tbody>\n",
       "    <tr>\n",
       "      <th>0-I</th>\n",
       "      <td>6</td>\n",
       "      <td>0</td>\n",
       "    </tr>\n",
       "    <tr>\n",
       "      <th>II-III</th>\n",
       "      <td>15</td>\n",
       "      <td>5</td>\n",
       "    </tr>\n",
       "  </tbody>\n",
       "</table>\n",
       "</div>"
      ],
      "text/plain": [
       "SBS1           0  1\n",
       "BestResponse       \n",
       "0-I            6  0\n",
       "II-III        15  5"
      ]
     },
     "metadata": {},
     "output_type": "display_data"
    },
    {
     "data": {
      "text/plain": [
       "(inf, 0.29811492854971117)"
      ]
     },
     "execution_count": 24,
     "metadata": {},
     "output_type": "execute_result"
    }
   ],
   "source": [
    "timepoint ='Baseline'\n",
    "test_var = 'SBS1'\n",
    "data = wes.loc[(wes.Timepoint==timepoint)&(wes.BestResponse!='N/A'),\n",
    "               ['BestResponse','WES_Dominant_Mutation_Signature']].copy()\n",
    "data = pd.get_dummies(data,columns=['WES_Dominant_Mutation_Signature'])\n",
    "data[test_var ] = data[['WES_Dominant_Mutation_Signature_WES_SBS1']].sum(axis=1)\n",
    "table = pd.crosstab(data['BestResponse'],data[test_var ])\n",
    "display(table)\n",
    "fisher_exact(table)"
   ]
  },
  {
   "cell_type": "code",
   "execution_count": 25,
   "metadata": {},
   "outputs": [
    {
     "name": "stdout",
     "output_type": "stream",
     "text": [
      "[<matplotlib.collections.PathCollection object at 0x7fa92ad6d8b0>, <matplotlib.collections.PathCollection object at 0x7fa92ad85310>, <matplotlib.collections.PathCollection object at 0x7fa92ad94460>, <matplotlib.collections.PathCollection object at 0x7fa92ad94370>, <matplotlib.collections.PathCollection object at 0x7fa92ad8bc70>, <matplotlib.collections.PathCollection object at 0x7fa92ad94fa0>]\n"
     ]
    },
    {
     "name": "stderr",
     "output_type": "stream",
     "text": [
      "/Users/jxfu/miniconda3/envs/hr_brca_16_466/lib/python3.8/site-packages/statannotations/_Plotter.py:337: UserWarning: Invalid x-position found. Are the same parameters passed to seaborn and statannotations calls? or are there few data points?\n",
      "  warnings.warn(\n",
      "/Users/jxfu/miniconda3/envs/hr_brca_16_466/lib/python3.8/site-packages/statannotations/_Plotter.py:337: UserWarning: Invalid x-position found. Are the same parameters passed to seaborn and statannotations calls? or are there few data points?\n",
      "  warnings.warn(\n"
     ]
    },
    {
     "data": {
      "image/png": "[encoded data removed]",
      "text/plain": [
       "<Figure size 1152x432 with 8 Axes>"
      ]
     },
     "metadata": {
      "needs_background": "light"
     },
     "output_type": "display_data"
    }
   ],
   "source": [
    "timepoint ='Baseline'\n",
    "features = ['WES_Heterogeneity','WES_Nonsynonymous_TMB','WES_absolute_purity','WES_absolute_ploidy'\n",
    "            ]\n",
    "fig = responsePlot_highlight_er_low(\n",
    "    data=wes.loc[(wes.Timepoint==timepoint)&(wes['BestResponse']!='N/A'),:],\n",
    "    features=features,ncols=len(features))\n",
    "plt.suptitle(timepoint,x=.5,y=1.1);"
   ]
  },
  {
   "attachments": {},
   "cell_type": "markdown",
   "metadata": {},
   "source": [
    "## Store WES data to excel"
   ]
  },
  {
   "cell_type": "code",
   "execution_count": 26,
   "metadata": {},
   "outputs": [
    {
     "data": {
      "text/plain": [
       "II-III    20\n",
       "0-I        6\n",
       "N/A        2\n",
       "Name: BestResponse, dtype: int64"
      ]
     },
     "execution_count": 26,
     "metadata": {},
     "output_type": "execute_result"
    }
   ],
   "source": [
    "wes.loc[wes.Timepoint=='Baseline','BestResponse'].value_counts()"
   ]
  },
  {
   "cell_type": "code",
   "execution_count": 27,
   "metadata": {},
   "outputs": [],
   "source": [
    "with pd.ExcelWriter(WesTableFile) as f:\n",
    "    for k,v in wes_sheets.items():\n",
    "        v.to_excel(f,sheet_name=k)"
   ]
  },
  {
   "cell_type": "code",
   "execution_count": null,
   "metadata": {},
   "outputs": [],
   "source": []
  }
 ],
 "metadata": {
  "kernelspec": {
   "display_name": "hr_brca_16_466",
   "language": "python",
   "name": "python3"
  },
  "language_info": {
   "codemirror_mode": {
    "name": "ipython",
    "version": 3
   },
   "file_extension": ".py",
   "mimetype": "text/x-python",
   "name": "python",
   "nbconvert_exporter": "python",
   "pygments_lexer": "ipython3",
   "version": "3.8.12"
  },
  "orig_nbformat": 4
 },
 "nbformat": 4,
 "nbformat_minor": 2
}
