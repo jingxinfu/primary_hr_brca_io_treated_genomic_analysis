{
 "cells": [
  {
   "cell_type": "markdown",
   "metadata": {},
   "source": [
    "# Difference of mutation signaures being detected using COSMIC V2 vs COSMIC V3\n",
    "We run SigProfilerAssignment to assign the contributions of COSMIC V2 and V3.4 mutational signatures to our samples. For each sample, we ascertain the most prominent signature based on its level of contribution."
   ]
  },
  {
   "cell_type": "code",
   "execution_count": 1,
   "metadata": {},
   "outputs": [],
   "source": [
    "import  pandas as pd\n",
    "data_processed_folder = '../data/processed'\n",
    "v2 = pd.read_csv(f'{data_processed_folder}/SigProfilerAssignment_COSMIC_v2/dominant_mutation_signature.csv',index_col=0)\n",
    "v3 =  pd.read_csv(f'{data_processed_folder}/SigProfilerAssignment_COSMIC_v3/dominant_mutation_signature.csv',index_col=0)\n",
    "v3.columns = v3.columns +'_V3'\n",
    "dt = v2.merge(v3,left_index=True,right_index=True)"
   ]
  },
  {
   "cell_type": "markdown",
   "metadata": {},
   "source": [
    "We construct the confusion matrix between dominat V2 and V3 mutational signatures and evaluate their consistence. We found that more Unknown signatures have emerged as dominant when using COSMIC version 3 compared to COSMIC version 2. In the following table, rows are signatures from COSMIC version 2, and columns are signatures from COSMIC version 3."
   ]
  },
  {
   "cell_type": "code",
   "execution_count": 2,
   "metadata": {},
   "outputs": [
    {
     "data": {
      "text/html": [
       "<div>\n",
       "<style scoped>\n",
       "    .dataframe tbody tr th:only-of-type {\n",
       "        vertical-align: middle;\n",
       "    }\n",
       "\n",
       "    .dataframe tbody tr th {\n",
       "        vertical-align: top;\n",
       "    }\n",
       "\n",
       "    .dataframe thead th {\n",
       "        text-align: right;\n",
       "    }\n",
       "</style>\n",
       "<table border=\"1\" class=\"dataframe\">\n",
       "  <thead>\n",
       "    <tr style=\"text-align: right;\">\n",
       "      <th>aetiology_V3</th>\n",
       "      <th>Apobec cytidine deaminase (c&gt;t)</th>\n",
       "      <th>Defective dna mismatch repair</th>\n",
       "      <th>Defects in dna-dsb repair by hr</th>\n",
       "      <th>Occupational exposure to haloalkanes</th>\n",
       "      <th>Possible sequencing artefact</th>\n",
       "      <th>Spontaneous or enzymatic deamination of 5-methylcytosine</th>\n",
       "      <th>Unknown</th>\n",
       "    </tr>\n",
       "    <tr>\n",
       "      <th>aetiology</th>\n",
       "      <th></th>\n",
       "      <th></th>\n",
       "      <th></th>\n",
       "      <th></th>\n",
       "      <th></th>\n",
       "      <th></th>\n",
       "      <th></th>\n",
       "    </tr>\n",
       "  </thead>\n",
       "  <tbody>\n",
       "    <tr>\n",
       "      <th>Apobec cytidine deaminase (c&gt;t)</th>\n",
       "      <td>2</td>\n",
       "      <td>0</td>\n",
       "      <td>0</td>\n",
       "      <td>0</td>\n",
       "      <td>0</td>\n",
       "      <td>0</td>\n",
       "      <td>1</td>\n",
       "    </tr>\n",
       "    <tr>\n",
       "      <th>Defective dna mismatch repair</th>\n",
       "      <td>0</td>\n",
       "      <td>18</td>\n",
       "      <td>0</td>\n",
       "      <td>0</td>\n",
       "      <td>4</td>\n",
       "      <td>0</td>\n",
       "      <td>3</td>\n",
       "    </tr>\n",
       "    <tr>\n",
       "      <th>Defects in dna-dsb repair by hr</th>\n",
       "      <td>0</td>\n",
       "      <td>0</td>\n",
       "      <td>3</td>\n",
       "      <td>1</td>\n",
       "      <td>3</td>\n",
       "      <td>0</td>\n",
       "      <td>12</td>\n",
       "    </tr>\n",
       "    <tr>\n",
       "      <th>Spontaneous deamination of 5-methylcytosine</th>\n",
       "      <td>0</td>\n",
       "      <td>1</td>\n",
       "      <td>0</td>\n",
       "      <td>0</td>\n",
       "      <td>2</td>\n",
       "      <td>14</td>\n",
       "      <td>7</td>\n",
       "    </tr>\n",
       "    <tr>\n",
       "      <th>Unknown</th>\n",
       "      <td>0</td>\n",
       "      <td>1</td>\n",
       "      <td>0</td>\n",
       "      <td>0</td>\n",
       "      <td>2</td>\n",
       "      <td>1</td>\n",
       "      <td>9</td>\n",
       "    </tr>\n",
       "  </tbody>\n",
       "</table>\n",
       "</div>"
      ],
      "text/plain": [
       "aetiology_V3                                 Apobec cytidine deaminase (c>t)  \\\n",
       "aetiology                                                                      \n",
       "Apobec cytidine deaminase (c>t)                                            2   \n",
       "Defective dna mismatch repair                                              0   \n",
       "Defects in dna-dsb repair by hr                                            0   \n",
       "Spontaneous deamination of 5-methylcytosine                                0   \n",
       "Unknown                                                                    0   \n",
       "\n",
       "aetiology_V3                                 Defective dna mismatch repair  \\\n",
       "aetiology                                                                    \n",
       "Apobec cytidine deaminase (c>t)                                          0   \n",
       "Defective dna mismatch repair                                           18   \n",
       "Defects in dna-dsb repair by hr                                          0   \n",
       "Spontaneous deamination of 5-methylcytosine                              1   \n",
       "Unknown                                                                  1   \n",
       "\n",
       "aetiology_V3                                 Defects in dna-dsb repair by hr  \\\n",
       "aetiology                                                                      \n",
       "Apobec cytidine deaminase (c>t)                                            0   \n",
       "Defective dna mismatch repair                                              0   \n",
       "Defects in dna-dsb repair by hr                                            3   \n",
       "Spontaneous deamination of 5-methylcytosine                                0   \n",
       "Unknown                                                                    0   \n",
       "\n",
       "aetiology_V3                                 Occupational exposure to haloalkanes  \\\n",
       "aetiology                                                                           \n",
       "Apobec cytidine deaminase (c>t)                                                 0   \n",
       "Defective dna mismatch repair                                                   0   \n",
       "Defects in dna-dsb repair by hr                                                 1   \n",
       "Spontaneous deamination of 5-methylcytosine                                     0   \n",
       "Unknown                                                                         0   \n",
       "\n",
       "aetiology_V3                                 Possible sequencing artefact  \\\n",
       "aetiology                                                                   \n",
       "Apobec cytidine deaminase (c>t)                                         0   \n",
       "Defective dna mismatch repair                                           4   \n",
       "Defects in dna-dsb repair by hr                                         3   \n",
       "Spontaneous deamination of 5-methylcytosine                             2   \n",
       "Unknown                                                                 2   \n",
       "\n",
       "aetiology_V3                                 Spontaneous or enzymatic deamination of 5-methylcytosine  \\\n",
       "aetiology                                                                                               \n",
       "Apobec cytidine deaminase (c>t)                                                              0          \n",
       "Defective dna mismatch repair                                                                0          \n",
       "Defects in dna-dsb repair by hr                                                              0          \n",
       "Spontaneous deamination of 5-methylcytosine                                                 14          \n",
       "Unknown                                                                                      1          \n",
       "\n",
       "aetiology_V3                                 Unknown  \n",
       "aetiology                                             \n",
       "Apobec cytidine deaminase (c>t)                    1  \n",
       "Defective dna mismatch repair                      3  \n",
       "Defects in dna-dsb repair by hr                   12  \n",
       "Spontaneous deamination of 5-methylcytosine        7  \n",
       "Unknown                                            9  "
      ]
     },
     "execution_count": 2,
     "metadata": {},
     "output_type": "execute_result"
    }
   ],
   "source": [
    "pd.crosstab(dt['aetiology'],dt['aetiology_V3']).sort_index().T.sort_index().T"
   ]
  },
  {
   "cell_type": "markdown",
   "metadata": {},
   "source": [
    "we noticed there are few sequencing artefact mutation signature being deteced using COSMIC version 3. Thus, we look at the distribution of WES metrics between sequencing artefact mutation signature dominant samples and other signature dominant sigantures. Not as we expected, the artefact mutation signature **is not associated** with low WES quality."
   ]
  },
  {
   "cell_type": "code",
   "execution_count": 3,
   "metadata": {},
   "outputs": [
    {
     "data": {
      "image/png": "[encoded data removed]",
      "text/plain": [
       "<Figure size 432x288 with 1 Axes>"
      ]
     },
     "metadata": {
      "needs_background": "light"
     },
     "output_type": "display_data"
    }
   ],
   "source": [
    "import seaborn as sns\n",
    "metadata = pd.read_csv(f'{data_processed_folder}/CGA_WES_features.csv',index_col=0)\n",
    "metadata['Dominant_Sig'] = 'Others'\n",
    "metadata.loc[dt.aetiology_V3=='Possible sequencing artefact','Dominant_Sig']='Possible sequencing artefact'\n",
    "ax = sns.scatterplot(data=metadata,\n",
    "                     y='combined_TiN',x='combined_fracContam',\n",
    "                     hue='Dominant_Sig',palette='Set2')"
   ]
  },
  {
   "cell_type": "markdown",
   "metadata": {},
   "source": [
    "We expected that mutation signature `Defects in dna-dsb repair by hr` is one of dominat signature in our breast cancer data. Based on the table provided, it is noted that in 12 samples where the dominant signature is unidentified using the COSMIC version 3, this particular signature is recognized as the dominant one according to COSMIC version 2."
   ]
  },
  {
   "cell_type": "code",
   "execution_count": 4,
   "metadata": {},
   "outputs": [
    {
     "data": {
      "text/html": [
       "<div>\n",
       "<style scoped>\n",
       "    .dataframe tbody tr th:only-of-type {\n",
       "        vertical-align: middle;\n",
       "    }\n",
       "\n",
       "    .dataframe tbody tr th {\n",
       "        vertical-align: top;\n",
       "    }\n",
       "\n",
       "    .dataframe thead th {\n",
       "        text-align: right;\n",
       "    }\n",
       "</style>\n",
       "<table border=\"1\" class=\"dataframe\">\n",
       "  <thead>\n",
       "    <tr style=\"text-align: right;\">\n",
       "      <th></th>\n",
       "      <th>Sig</th>\n",
       "      <th>aetiology</th>\n",
       "      <th>Sig_V3</th>\n",
       "      <th>aetiology_V3</th>\n",
       "    </tr>\n",
       "    <tr>\n",
       "      <th>Samples</th>\n",
       "      <th></th>\n",
       "      <th></th>\n",
       "      <th></th>\n",
       "      <th></th>\n",
       "    </tr>\n",
       "  </thead>\n",
       "  <tbody>\n",
       "    <tr>\n",
       "      <th>RP-2423_16466_12_100118</th>\n",
       "      <td>Signature_3</td>\n",
       "      <td>Defects in dna-dsb repair by hr</td>\n",
       "      <td>SBS39</td>\n",
       "      <td>Unknown</td>\n",
       "    </tr>\n",
       "    <tr>\n",
       "      <th>RP-2423_16466_15_052319</th>\n",
       "      <td>Signature_3</td>\n",
       "      <td>Defects in dna-dsb repair by hr</td>\n",
       "      <td>SBS39</td>\n",
       "      <td>Unknown</td>\n",
       "    </tr>\n",
       "    <tr>\n",
       "      <th>RP-2423_16466_16_061119</th>\n",
       "      <td>Signature_3</td>\n",
       "      <td>Defects in dna-dsb repair by hr</td>\n",
       "      <td>SBS39</td>\n",
       "      <td>Unknown</td>\n",
       "    </tr>\n",
       "    <tr>\n",
       "      <th>RP-2423_16466_30_042221</th>\n",
       "      <td>Signature_3</td>\n",
       "      <td>Defects in dna-dsb repair by hr</td>\n",
       "      <td>SBS39</td>\n",
       "      <td>Unknown</td>\n",
       "    </tr>\n",
       "    <tr>\n",
       "      <th>RP-2423_16466_30_050321</th>\n",
       "      <td>Signature_3</td>\n",
       "      <td>Defects in dna-dsb repair by hr</td>\n",
       "      <td>SBS39</td>\n",
       "      <td>Unknown</td>\n",
       "    </tr>\n",
       "    <tr>\n",
       "      <th>RP-2423_16466_30_060321</th>\n",
       "      <td>Signature_3</td>\n",
       "      <td>Defects in dna-dsb repair by hr</td>\n",
       "      <td>SBS39</td>\n",
       "      <td>Unknown</td>\n",
       "    </tr>\n",
       "    <tr>\n",
       "      <th>RP-2423_16466_12_090418</th>\n",
       "      <td>Signature_3</td>\n",
       "      <td>Defects in dna-dsb repair by hr</td>\n",
       "      <td>SBS5</td>\n",
       "      <td>Unknown</td>\n",
       "    </tr>\n",
       "    <tr>\n",
       "      <th>RP-2423_16466_18_072519</th>\n",
       "      <td>Signature_3</td>\n",
       "      <td>Defects in dna-dsb repair by hr</td>\n",
       "      <td>SBS5</td>\n",
       "      <td>Unknown</td>\n",
       "    </tr>\n",
       "    <tr>\n",
       "      <th>RP-2423_16466_18_082219</th>\n",
       "      <td>Signature_3</td>\n",
       "      <td>Defects in dna-dsb repair by hr</td>\n",
       "      <td>SBS5</td>\n",
       "      <td>Unknown</td>\n",
       "    </tr>\n",
       "    <tr>\n",
       "      <th>RP-2423_16466_19_081319</th>\n",
       "      <td>Signature_3</td>\n",
       "      <td>Defects in dna-dsb repair by hr</td>\n",
       "      <td>SBS5</td>\n",
       "      <td>Unknown</td>\n",
       "    </tr>\n",
       "    <tr>\n",
       "      <th>RP-2423_16466_19_091019</th>\n",
       "      <td>Signature_3</td>\n",
       "      <td>Defects in dna-dsb repair by hr</td>\n",
       "      <td>SBS5</td>\n",
       "      <td>Unknown</td>\n",
       "    </tr>\n",
       "    <tr>\n",
       "      <th>RP-2423_16466_8_032018</th>\n",
       "      <td>Signature_3</td>\n",
       "      <td>Defects in dna-dsb repair by hr</td>\n",
       "      <td>SBS5</td>\n",
       "      <td>Unknown</td>\n",
       "    </tr>\n",
       "  </tbody>\n",
       "</table>\n",
       "</div>"
      ],
      "text/plain": [
       "                                 Sig                        aetiology Sig_V3  \\\n",
       "Samples                                                                        \n",
       "RP-2423_16466_12_100118  Signature_3  Defects in dna-dsb repair by hr  SBS39   \n",
       "RP-2423_16466_15_052319  Signature_3  Defects in dna-dsb repair by hr  SBS39   \n",
       "RP-2423_16466_16_061119  Signature_3  Defects in dna-dsb repair by hr  SBS39   \n",
       "RP-2423_16466_30_042221  Signature_3  Defects in dna-dsb repair by hr  SBS39   \n",
       "RP-2423_16466_30_050321  Signature_3  Defects in dna-dsb repair by hr  SBS39   \n",
       "RP-2423_16466_30_060321  Signature_3  Defects in dna-dsb repair by hr  SBS39   \n",
       "RP-2423_16466_12_090418  Signature_3  Defects in dna-dsb repair by hr   SBS5   \n",
       "RP-2423_16466_18_072519  Signature_3  Defects in dna-dsb repair by hr   SBS5   \n",
       "RP-2423_16466_18_082219  Signature_3  Defects in dna-dsb repair by hr   SBS5   \n",
       "RP-2423_16466_19_081319  Signature_3  Defects in dna-dsb repair by hr   SBS5   \n",
       "RP-2423_16466_19_091019  Signature_3  Defects in dna-dsb repair by hr   SBS5   \n",
       "RP-2423_16466_8_032018   Signature_3  Defects in dna-dsb repair by hr   SBS5   \n",
       "\n",
       "                        aetiology_V3  \n",
       "Samples                               \n",
       "RP-2423_16466_12_100118      Unknown  \n",
       "RP-2423_16466_15_052319      Unknown  \n",
       "RP-2423_16466_16_061119      Unknown  \n",
       "RP-2423_16466_30_042221      Unknown  \n",
       "RP-2423_16466_30_050321      Unknown  \n",
       "RP-2423_16466_30_060321      Unknown  \n",
       "RP-2423_16466_12_090418      Unknown  \n",
       "RP-2423_16466_18_072519      Unknown  \n",
       "RP-2423_16466_18_082219      Unknown  \n",
       "RP-2423_16466_19_081319      Unknown  \n",
       "RP-2423_16466_19_091019      Unknown  \n",
       "RP-2423_16466_8_032018       Unknown  "
      ]
     },
     "execution_count": 4,
     "metadata": {},
     "output_type": "execute_result"
    }
   ],
   "source": [
    "pt_oi = dt.index[(dt.aetiology_V3=='Unknown')&\n",
    "       (dt.aetiology=='Defects in dna-dsb repair by hr')]\n",
    "dt.loc[pt_oi,:].sort_values('Sig_V3')"
   ]
  },
  {
   "cell_type": "markdown",
   "metadata": {},
   "source": [
    "we then went to the reconstruction plot for the first sample `RP-2423_16466_12_100118` and notice that two construction are reasonable."
   ]
  },
  {
   "cell_type": "markdown",
   "metadata": {},
   "source": [
    "Version 3\n",
    "![RP-2423_16466_12_100118](../data/processed/SigProfilerAssignment_COSMIC_v3/Assignment_Solution/Activities/SampleReconstruction/WebPNGs/RP-2423_16466_12_100118.png)\n",
    "Version 2\n",
    "![RP-2423_16466_12_100118](../data/processed/SigProfilerAssignment_COSMIC_v2/Assignment_Solution/Activities/SampleReconstruction/WebPNGs/RP-2423_16466_12_100118.png)"
   ]
  },
  {
   "cell_type": "markdown",
   "metadata": {},
   "source": [
    "Next, we compared the reconstruction metrics between V2 and V3."
   ]
  },
  {
   "cell_type": "code",
   "execution_count": 5,
   "metadata": {},
   "outputs": [],
   "source": [
    "stats_v2 = pd.read_csv(f'{data_processed_folder}/SigProfilerAssignment_COSMIC_v2/Assignment_Solution/Solution_Stats/Assignment_Solution_Samples_Stats.txt',\n",
    "                       index_col=0,sep='\\t')\n",
    "stats_v3 = pd.read_csv(f'{data_processed_folder}/SigProfilerAssignment_COSMIC_v3/Assignment_Solution/Solution_Stats/Assignment_Solution_Samples_Stats.txt',\n",
    "                       index_col=0,sep='\\t')\n",
    "stats_v3 .columns = stats_v3.columns +'_V3'\n",
    "stats_dt = stats_v2.merge(stats_v3,left_index=True,right_index=True)"
   ]
  },
  {
   "cell_type": "markdown",
   "metadata": {},
   "source": [
    "Although v2 generally results in slightly lower cosine similarity and correlation scores than v3, the absolute difference between the two is minimal."
   ]
  },
  {
   "cell_type": "code",
   "execution_count": 6,
   "metadata": {},
   "outputs": [
    {
     "data": {
      "text/plain": [
       "Samples\n",
       "RP-2423_16466_15_052319   -0.049\n",
       "RP-2423_16466_18_082219   -0.048\n",
       "RP-2423_16466_30_050321   -0.042\n",
       "RP-2423_16466_19_081319   -0.026\n",
       "RP-2423_16466_12_100118   -0.020\n",
       "RP-2423_16466_18_072519   -0.019\n",
       "RP-2423_16466_30_060321   -0.019\n",
       "RP-2423_16466_8_032018    -0.014\n",
       "RP-2423_16466_19_091019   -0.011\n",
       "RP-2423_16466_16_061119   -0.007\n",
       "RP-2423_16466_30_042221   -0.002\n",
       "RP-2423_16466_12_090418    0.002\n",
       "dtype: float64"
      ]
     },
     "execution_count": 6,
     "metadata": {},
     "output_type": "execute_result"
    }
   ],
   "source": [
    "metrics = 'Cosine Similarity'\n",
    "data = stats_dt.loc[pt_oi,:].copy()\n",
    "(data[metrics] - data[f\"{metrics}_V3\"]).sort_values()"
   ]
  },
  {
   "cell_type": "code",
   "execution_count": 7,
   "metadata": {},
   "outputs": [
    {
     "data": {
      "text/plain": [
       "Samples\n",
       "RP-2423_16466_15_052319   -0.079\n",
       "RP-2423_16466_18_082219   -0.067\n",
       "RP-2423_16466_30_050321   -0.056\n",
       "RP-2423_16466_12_100118   -0.050\n",
       "RP-2423_16466_30_060321   -0.042\n",
       "RP-2423_16466_19_081319   -0.038\n",
       "RP-2423_16466_8_032018    -0.036\n",
       "RP-2423_16466_30_042221   -0.035\n",
       "RP-2423_16466_18_072519   -0.029\n",
       "RP-2423_16466_19_091019   -0.017\n",
       "RP-2423_16466_16_061119   -0.016\n",
       "RP-2423_16466_12_090418    0.000\n",
       "dtype: float64"
      ]
     },
     "execution_count": 7,
     "metadata": {},
     "output_type": "execute_result"
    }
   ],
   "source": [
    "metrics = 'Correlation'\n",
    "data = stats_dt.loc[pt_oi,:].copy()\n",
    "(data[metrics] - data[f\"{metrics}_V3\"]).sort_values()"
   ]
  },
  {
   "cell_type": "markdown",
   "metadata": {},
   "source": [
    "## Conclusion:\n",
    "1. v3 has relatively higher reconstruction performance than v2. \n",
    "2. v2 is more intepretable than v3.\n",
    "3. v2 generated more expected mutational signature (Signature 3) on breast cancer data than v3. "
   ]
  }
 ],
 "metadata": {
  "kernelspec": {
   "display_name": "hr_brca_16_466",
   "language": "python",
   "name": "python3"
  },
  "language_info": {
   "codemirror_mode": {
    "name": "ipython",
    "version": 3
   },
   "file_extension": ".py",
   "mimetype": "text/x-python",
   "name": "python",
   "nbconvert_exporter": "python",
   "pygments_lexer": "ipython3",
   "version": "3.8.12"
  }
 },
 "nbformat": 4,
 "nbformat_minor": 2
}
